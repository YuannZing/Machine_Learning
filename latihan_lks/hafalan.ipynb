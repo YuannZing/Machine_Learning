{
 "cells": [
  {
   "cell_type": "code",
   "execution_count": 2,
   "metadata": {},
   "outputs": [],
   "source": [
    "import pandas as pd \n",
    "import numpy as np"
   ]
  },
  {
   "cell_type": "code",
   "execution_count": 3,
   "metadata": {},
   "outputs": [],
   "source": [
    "class TreeNode():\n",
    "    def __init__(self, data, feature_idx, feature_val, prediction_probs, information_gain)->None:\n",
    "        self.data = data\n",
    "        self.feature_idx = feature_idx\n",
    "        self.feature_val = feature_val\n",
    "        self.prediction_probs = prediction_probs\n",
    "        self.information_gain = information_gain\n",
    "        self.feature_importance = self.data.shape[0] * self.information_gain\n",
    "        self.left = None\n",
    "        self.right = None\n",
    "    \n",
    "    def node_leaf(self)->str:\n",
    "        if (self.left or self.right):\n",
    "            return f\"NODE | Information_gain = {self.information_gain} | SPLIT IF X[{self.feature_idx}] < {self.feature_val} | Then Left O/W Right\"\n",
    "        else:\n",
    "            unique_values, counts = np.unique(self.data[:,-1], return_counts=True)\n",
    "            output = \", \".join([f\"{value}->{count}\" for value,count in zip(unique_values, counts)])\n",
    "            return f\"LEAF | Label Count = {output} | Pred Probs = {self.prediction_probs}\""
   ]
  },
  {
   "cell_type": "code",
   "execution_count": 10,
   "metadata": {},
   "outputs": [],
   "source": [
    "class DecisionTree():\n",
    "    def __init__(self, max_depth=4, min_samples_leaf=1, min_information_gain=0.0 , feature_splitting=None, amount_of_say=None)->None:\n",
    "        self.max_depth = max_depth\n",
    "        self.min_samples_leaf = min_samples_leaf\n",
    "        self.min_information_gain = min_information_gain\n",
    "        self.feature_splitting = feature_splitting\n",
    "        self.amount_of_say = amount_of_say\n",
    "        \n",
    "    def _entropy(self, class_probabilities: list)->float:\n",
    "        return sum([-p * np.log2(p) for p in class_probabilities if p > 0])\n",
    "    \n",
    "    def _class_probabilities(self, labels: np.array)->np.array:\n",
    "        unique, counts = np.unique(labels, return_counts=True)\n",
    "        return counts / counts.sum()\n",
    "    \n",
    "    def _data_entropy(self, labels: list)->float:\n",
    "        return self._entropy(self._class_probabilities(labels))\n",
    "    \n",
    "    def _partition_entropy(self, subsets: list)->float:\n",
    "        total_count = sum([len(subset) for subset in subsets])\n",
    "        return sum([self._data_entropy(subset) * (len(subset) / total_count) for subset in subsets])\n",
    "    \n",
    "    def _split(self, data:np.array, feature_idx:int, feature_val:float)->tuple:\n",
    "        mask_below_threshold = data[:, feature_idx] < feature_val\n",
    "        group1 = data[mask_below_threshold]\n",
    "        group2 = data[~mask_below_threshold]\n",
    "        return group1, group2\n",
    "    \n",
    "    def _select_feature_to_use(self, data:np.array)->list:\n",
    "        feature_idx = list(range(data.shape[1]-1))\n",
    "        \n",
    "        if self.feature_splitting == \"sqrt\":\n",
    "            feature_idx_to_use = np.random.choice(feature_idx, size= int(np.sqrt(len(feature_idx))))\n",
    "        elif self.feature_splitting == \"log\":\n",
    "            feature_idx_to_use = np.random.choice(feature_idx, size= int(np.log2(len(feature_idx))))\n",
    "        else:\n",
    "            feature_idx_to_use = feature_idx\n",
    "        return feature_idx_to_use\n",
    "    \n",
    "    def _find_best_split(self, data:np.array)->tuple:\n",
    "        min_part_entropy = 1e9\n",
    "        feature_idx_to_use = self._select_feature_to_use(data)\n",
    "        \n",
    "        for idx in feature_idx_to_use:\n",
    "            feature_vals = np.percentile(data[:, idx], q=np.arange(25,100,25))\n",
    "            \n",
    "            for val in feature_vals:\n",
    "                g1, g2 = self._split(data, idx, val)\n",
    "                part_entropy = self._partition_entropy([g1[:,-1], g2[:,-1]])\n",
    "                if part_entropy < min_part_entropy:\n",
    "                    min_part_entropy = part_entropy\n",
    "                    min_entropy_feature_idx = idx\n",
    "                    min_entropy_feature_val = val\n",
    "                    g1_min, g2_min = g1,g2\n",
    "        return g1_min, g2_min, min_entropy_feature_idx, min_entropy_feature_val, min_part_entropy\n",
    "    \n",
    "    def _find_label_probs(self, data:np.array)->np.array:\n",
    "        labels_as_integers = data[:,-1].astype(int)\n",
    "        unique, counts = np.unique(labels_as_integers, return_counts=True)\n",
    "        label_probabilities = np.zeros(len(self.labels_in_train), dtype=float)\n",
    "        label_probabilities[unique] = counts / counts.sum()\n",
    "        return label_probabilities\n",
    "    \n",
    "    def _create_tree(self, data:np.array, current_depth:int)->TreeNode:\n",
    "        if current_depth > self.max_depth:\n",
    "            return None\n",
    "        \n",
    "        split_1_data, split_2_data, split_feature_idx, split_feature_val, split_entropy = self._find_best_split(data)\n",
    "        \n",
    "        label_probabilities = self._find_label_probs(data)\n",
    "        node_entropy = self._entropy(label_probabilities)\n",
    "        information_gain = node_entropy - split_entropy\n",
    "        node = TreeNode(data, split_feature_idx, split_feature_val,\n",
    "                        label_probabilities, information_gain)\n",
    "        \n",
    "        if self.min_samples_leaf > split_1_data.shape[0] or self.min_samples_leaf > split_2_data.shape[0]:\n",
    "            return node\n",
    "        elif information_gain < self.min_information_gain:\n",
    "            return node\n",
    "        \n",
    "        current_depth += 1\n",
    "        node.left = self._create_tree(split_1_data, current_depth)\n",
    "        node.right= self._create_tree(split_2_data, current_depth)\n",
    "        return node\n",
    "    \n",
    "    def _predict_one_sample(self, X:np.array)->np.array:\n",
    "        node = self.tree\n",
    "        \n",
    "        while node:\n",
    "            pred_probs = node.prediction_probs\n",
    "            if X[node.feature_idx] < node.feature_val:\n",
    "                node = node.left\n",
    "            else:\n",
    "                node = node.right\n",
    "        return pred_probs\n",
    "    \n",
    "    def train(self, X_train:np.array, y_train:np.array)->None:\n",
    "        self.labels_in_train = np.unique(y_train)\n",
    "        train_data = np.concatenate((X_train, np.reshape(y_train, (-1,1))), axis=1)\n",
    "        \n",
    "        self.tree = self._create_tree(train_data, current_depth=0)\n",
    "        self.feature_importance = dict.fromkeys(range(X_train.shape[1]),0)\n",
    "        self._calculate_feature_importance(self.tree)\n",
    "        self.feature_importance = {k: v / total for total in (sum(self.feature_importance.values()),) for k, v in self.feature_importance.items()}\n",
    "        \n",
    "    def _predict_proba(self, X_set:np.array)->np.array:\n",
    "        pred_proba = np.apply_along_axis(self._predict_one_sample,1,X_set)\n",
    "        return pred_proba\n",
    "    \n",
    "    def predict(self, X_set:np.array):\n",
    "        pred_proba = self._predict_proba(X_set)\n",
    "        preds = np.argmax(pred_proba, axis=1)\n",
    "        return preds\n",
    "    \n",
    "    def _print_recursive(self, node:TreeNode, level=0)->None:\n",
    "        if node != None:\n",
    "            self._print_recursive(node.left, level + 1)\n",
    "            print('    ' * 4 * level + '-> ' + node.node_leaf())\n",
    "            self._print_recursive(node.right, level + 1)\n",
    "            \n",
    "    def print_tree(self)->None:\n",
    "        self._print_recursive(node=self.tree)\n",
    "        \n",
    "    def _calculate_feature_importance(self, node):\n",
    "        if node != None:\n",
    "            self.feature_importance[node.feature_idx] += node.feature_importance\n",
    "            self._calculate_feature_importance(node.left)\n",
    "            self._calculate_feature_importance(node.right)"
   ]
  },
  {
   "cell_type": "code",
   "execution_count": 16,
   "metadata": {},
   "outputs": [],
   "source": [
    "def train_test_split(X,y, random_seed=42, test_size=0.2):\n",
    "    n = X.shape[0]\n",
    "    np.random.seed(random_seed)\n",
    "    shuffled_indices = np.random.permutation(n)\n",
    "    test_size = int(n * test_size)\n",
    "    test_data = shuffled_indices[:test_size]\n",
    "    train_data = shuffled_indices[test_size:]\n",
    "    \n",
    "    X_train, X_test = X[train_data], X[test_data]\n",
    "    y_train, y_test = y[train_data], y[test_data]\n",
    "    \n",
    "    return X_train, X_test, y_train, y_test"
   ]
  },
  {
   "cell_type": "code",
   "execution_count": 6,
   "metadata": {},
   "outputs": [
    {
     "name": "stdout",
     "output_type": "stream",
     "text": [
      "X_train:\n",
      " [[2.5 3.2]\n",
      " [1.9 4.1]\n",
      " [3.7 1.2]\n",
      " [1.5 4.2]\n",
      " [2.8 3.9]\n",
      " [2.1 3.7]]\n",
      "y_train:\n",
      " [0 0 0 1 1 1]\n",
      "X_test:\n",
      " [[1.3 4.5]\n",
      " [3.  2.8]]\n",
      "y_test:\n",
      " [1 0]\n"
     ]
    }
   ],
   "source": [
    "# Contoh dataset (fitur + label)\n",
    "X = np.array([[2.5, 3.2], [1.3, 4.5], [3.7, 1.2], [2.8, 3.9], [1.5, 4.2], [3.0, 2.8], [2.1, 3.7], [1.9, 4.1]])\n",
    "y = np.array([0, 1, 0, 1, 1, 0, 1, 0])  # Label kelas\n",
    "\n",
    "# Gunakan fungsi train_test_split\n",
    "X_train, X_test, y_train, y_test = train_test_split(X, y, test_size=0.25, random_seed=42)\n",
    "\n",
    "# Cek hasilnya\n",
    "print(\"X_train:\\n\", X_train)\n",
    "print(\"y_train:\\n\", y_train)\n",
    "print(\"X_test:\\n\", X_test)\n",
    "print(\"y_test:\\n\", y_test)\n"
   ]
  },
  {
   "cell_type": "code",
   "execution_count": null,
   "metadata": {},
   "outputs": [
    {
     "name": "stdout",
     "output_type": "stream",
     "text": [
      "Depth 1\n",
      "Train Accuracy 0.8333333333333334\n",
      "Test Accuracy 1.0\n",
      "\n",
      "Depth 2\n",
      "Train Accuracy 0.8333333333333334\n",
      "Test Accuracy 0.5\n",
      "\n",
      "Depth 3\n",
      "Train Accuracy 1.0\n",
      "Test Accuracy 1.0\n",
      "\n",
      "Depth 4\n",
      "Train Accuracy 1.0\n",
      "Test Accuracy 1.0\n",
      "\n",
      "Depth 5\n",
      "Train Accuracy 1.0\n",
      "Test Accuracy 1.0\n",
      "\n",
      "Depth 6\n",
      "Train Accuracy 1.0\n",
      "Test Accuracy 1.0\n",
      "\n",
      "Depth 7\n",
      "Train Accuracy 1.0\n",
      "Test Accuracy 1.0\n",
      "\n",
      "Depth 8\n",
      "Train Accuracy 1.0\n",
      "Test Accuracy 1.0\n",
      "\n",
      "Depth 9\n",
      "Train Accuracy 1.0\n",
      "Test Accuracy 1.0\n",
      "\n",
      "Depth 10\n",
      "Train Accuracy 1.0\n",
      "Test Accuracy 1.0\n",
      "\n",
      "Depth 11\n",
      "Train Accuracy 1.0\n",
      "Test Accuracy 1.0\n",
      "\n",
      "Depth 12\n",
      "Train Accuracy 1.0\n",
      "Test Accuracy 1.0\n",
      "\n",
      "Depth 13\n",
      "Train Accuracy 1.0\n",
      "Test Accuracy 1.0\n",
      "\n"
     ]
    }
   ],
   "source": [
    "accurations = []\n",
    "for i in range(1,14):\n",
    "    tree = DecisionTree(max_depth=i, min_samples_leaf=1)\n",
    "    tree.train(X_train, y_train)\n",
    "    train_preds = tree.predict(X_train)\n",
    "    test_preds = tree.predict(X_test)\n",
    "    accurations.append(sum(test_preds == y_test) / len(y_test))\n",
    "    print(\"Depth\", i)\n",
    "    print(\"Train Accuracy\", sum(train_preds == y_train) / len(y_train))\n",
    "    print(\"Test Accuracy\", sum(test_preds == y_test) / len(y_test))\n",
    "    print()"
   ]
  },
  {
   "cell_type": "code",
   "execution_count": 15,
   "metadata": {},
   "outputs": [
    {
     "data": {
      "text/plain": [
       "[<matplotlib.lines.Line2D at 0x24ae5136710>]"
      ]
     },
     "execution_count": 15,
     "metadata": {},
     "output_type": "execute_result"
    },
    {
     "data": {
      "image/png": "[encoded data removed]",
      "text/plain": [
       "<Figure size 640x480 with 1 Axes>"
      ]
     },
     "metadata": {},
     "output_type": "display_data"
    }
   ],
   "source": [
    "import matplotlib.pyplot as plt\n",
    "plt.plot(list(range(1,14)),accurations)"
   ]
  },
  {
   "cell_type": "code",
   "execution_count": 11,
   "metadata": {},
   "outputs": [
    {
     "name": "stdout",
     "output_type": "stream",
     "text": [
      "Prediksi: [1 0]\n",
      "Label asli: [1 0]\n"
     ]
    }
   ],
   "source": [
    "# Buat objek Decision Tree dan latih model dengan data training\n",
    "tree = DecisionTree(max_depth=5, min_samples_leaf=1)\n",
    "tree.train(X_train, y_train)\n",
    "\n",
    "# Prediksi menggunakan data uji\n",
    "y_pred = tree.predict(X_test)\n",
    "\n",
    "# Output hasil prediksi\n",
    "print(\"Prediksi:\", y_pred)\n",
    "print(\"Label asli:\", y_test)\n"
   ]
  },
  {
   "cell_type": "code",
   "execution_count": 12,
   "metadata": {},
   "outputs": [
    {
     "name": "stdout",
     "output_type": "stream",
     "text": [
      "Hasil Prediksi: [1 0]\n"
     ]
    }
   ],
   "source": [
    "X_testing = np.array([[2.0, 3.0], [1.3, 4.6]])\n",
    "y_pred = tree.predict(X_test)\n",
    "\n",
    "print(\"Hasil Prediksi:\", y_pred)\n"
   ]
  }
 ],
 "metadata": {
  "kernelspec": {
   "display_name": "python3.11",
   "language": "python",
   "name": "python3"
  },
  "language_info": {
   "codemirror_mode": {
    "name": "ipython",
    "version": 3
   },
   "file_extension": ".py",
   "mimetype": "text/x-python",
   "name": "python",
   "nbconvert_exporter": "python",
   "pygments_lexer": "ipython3",
   "version": "3.11.9"
  }
 },
 "nbformat": 4,
 "nbformat_minor": 2
}
