{
 "cells": [
  {
   "cell_type": "code",
   "execution_count": 1,
   "metadata": {},
   "outputs": [],
   "source": [
    "import pandas as pd \n",
    "import numpy as np\n",
    "import matplotlib.pyplot as plt\n",
    "import seaborn as sns"
   ]
  },
  {
   "cell_type": "code",
   "execution_count": 2,
   "metadata": {},
   "outputs": [
    {
     "data": {
      "text/html": [
       "<div>\n",
       "<style scoped>\n",
       "    .dataframe tbody tr th:only-of-type {\n",
       "        vertical-align: middle;\n",
       "    }\n",
       "\n",
       "    .dataframe tbody tr th {\n",
       "        vertical-align: top;\n",
       "    }\n",
       "\n",
       "    .dataframe thead th {\n",
       "        text-align: right;\n",
       "    }\n",
       "</style>\n",
       "<table border=\"1\" class=\"dataframe\">\n",
       "  <thead>\n",
       "    <tr style=\"text-align: right;\">\n",
       "      <th></th>\n",
       "      <th>sepal_length</th>\n",
       "      <th>sepal_width</th>\n",
       "      <th>petal_length</th>\n",
       "      <th>petal_width</th>\n",
       "      <th>class</th>\n",
       "    </tr>\n",
       "  </thead>\n",
       "  <tbody>\n",
       "    <tr>\n",
       "      <th>0</th>\n",
       "      <td>5.1</td>\n",
       "      <td>3.5</td>\n",
       "      <td>1.4</td>\n",
       "      <td>0.2</td>\n",
       "      <td>Iris-setosa</td>\n",
       "    </tr>\n",
       "    <tr>\n",
       "      <th>1</th>\n",
       "      <td>4.9</td>\n",
       "      <td>3.0</td>\n",
       "      <td>1.4</td>\n",
       "      <td>0.2</td>\n",
       "      <td>Iris-setosa</td>\n",
       "    </tr>\n",
       "    <tr>\n",
       "      <th>2</th>\n",
       "      <td>4.7</td>\n",
       "      <td>3.2</td>\n",
       "      <td>1.3</td>\n",
       "      <td>0.2</td>\n",
       "      <td>Iris-setosa</td>\n",
       "    </tr>\n",
       "    <tr>\n",
       "      <th>3</th>\n",
       "      <td>4.6</td>\n",
       "      <td>3.1</td>\n",
       "      <td>1.5</td>\n",
       "      <td>0.2</td>\n",
       "      <td>Iris-setosa</td>\n",
       "    </tr>\n",
       "    <tr>\n",
       "      <th>4</th>\n",
       "      <td>5.0</td>\n",
       "      <td>3.6</td>\n",
       "      <td>1.4</td>\n",
       "      <td>0.2</td>\n",
       "      <td>Iris-setosa</td>\n",
       "    </tr>\n",
       "    <tr>\n",
       "      <th>...</th>\n",
       "      <td>...</td>\n",
       "      <td>...</td>\n",
       "      <td>...</td>\n",
       "      <td>...</td>\n",
       "      <td>...</td>\n",
       "    </tr>\n",
       "    <tr>\n",
       "      <th>145</th>\n",
       "      <td>6.7</td>\n",
       "      <td>3.0</td>\n",
       "      <td>5.2</td>\n",
       "      <td>2.3</td>\n",
       "      <td>Iris-virginica</td>\n",
       "    </tr>\n",
       "    <tr>\n",
       "      <th>146</th>\n",
       "      <td>6.3</td>\n",
       "      <td>2.5</td>\n",
       "      <td>5.0</td>\n",
       "      <td>1.9</td>\n",
       "      <td>Iris-virginica</td>\n",
       "    </tr>\n",
       "    <tr>\n",
       "      <th>147</th>\n",
       "      <td>6.5</td>\n",
       "      <td>3.0</td>\n",
       "      <td>5.2</td>\n",
       "      <td>2.0</td>\n",
       "      <td>Iris-virginica</td>\n",
       "    </tr>\n",
       "    <tr>\n",
       "      <th>148</th>\n",
       "      <td>6.2</td>\n",
       "      <td>3.4</td>\n",
       "      <td>5.4</td>\n",
       "      <td>2.3</td>\n",
       "      <td>Iris-virginica</td>\n",
       "    </tr>\n",
       "    <tr>\n",
       "      <th>149</th>\n",
       "      <td>5.9</td>\n",
       "      <td>3.0</td>\n",
       "      <td>5.1</td>\n",
       "      <td>1.8</td>\n",
       "      <td>Iris-virginica</td>\n",
       "    </tr>\n",
       "  </tbody>\n",
       "</table>\n",
       "<p>150 rows × 5 columns</p>\n",
       "</div>"
      ],
      "text/plain": [
       "     sepal_length  sepal_width  petal_length  petal_width           class\n",
       "0             5.1          3.5           1.4          0.2     Iris-setosa\n",
       "1             4.9          3.0           1.4          0.2     Iris-setosa\n",
       "2             4.7          3.2           1.3          0.2     Iris-setosa\n",
       "3             4.6          3.1           1.5          0.2     Iris-setosa\n",
       "4             5.0          3.6           1.4          0.2     Iris-setosa\n",
       "..            ...          ...           ...          ...             ...\n",
       "145           6.7          3.0           5.2          2.3  Iris-virginica\n",
       "146           6.3          2.5           5.0          1.9  Iris-virginica\n",
       "147           6.5          3.0           5.2          2.0  Iris-virginica\n",
       "148           6.2          3.4           5.4          2.3  Iris-virginica\n",
       "149           5.9          3.0           5.1          1.8  Iris-virginica\n",
       "\n",
       "[150 rows x 5 columns]"
      ]
     },
     "execution_count": 2,
     "metadata": {},
     "output_type": "execute_result"
    }
   ],
   "source": [
    "df = pd.read_csv(\"../data iris.csv\", delimiter=\";\")\n",
    "df"
   ]
  },
  {
   "cell_type": "markdown",
   "metadata": {},
   "source": [
    "## **DATA OUTLIERS**"
   ]
  },
  {
   "cell_type": "code",
   "execution_count": 3,
   "metadata": {},
   "outputs": [
    {
     "data": {
      "image/png": "[encoded data removed]",
      "text/plain": [
       "<Figure size 1000x600 with 1 Axes>"
      ]
     },
     "metadata": {},
     "output_type": "display_data"
    }
   ],
   "source": [
    "# Boxplot sebelum menghapus outlier\n",
    "plt.figure(figsize=(10, 6))\n",
    "sns.boxplot(data=df.iloc[:, :-1])  # Exclude kolom 'class'\n",
    "plt.title(\"Boxplot Sebelum Menghapus Outlier\")\n",
    "plt.show()"
   ]
  },
  {
   "cell_type": "markdown",
   "metadata": {},
   "source": [
    "---\n",
    "<center style=\"color:red\"><b>PENJELASAN</b></center>\n",
    "\n",
    "---\n",
    "dalam kode di atas kita mencoba melihat apakah **datanya ada outliers atau tidak** pada seluruh fitur. Dari hasil yang di atas, kita dapat melihat **terdapat outliers** untuk bagian **sepal_width** di bawah persegi (**lingkaran pada titik y di angka mendekati 2**) dan di atas titik y 4.\n",
    "\n",
    "---"
   ]
  },
  {
   "cell_type": "code",
   "execution_count": null,
   "metadata": {},
   "outputs": [
    {
     "name": "stdout",
     "output_type": "stream",
     "text": [
      "Jumlah data sebelum menghapus outlier: 150\n",
      "Jumlah data setelah menghapus outlier: 146\n"
     ]
    }
   ],
   "source": [
    "# Hitung Q1, Q3, dan IQR untuk setiap kolom numerik\n",
    "Q1 = df.iloc[:, :-1].quantile(0.25)\n",
    "Q3 = df.iloc[:, :-1].quantile(0.75)\n",
    "IQR = Q3 - Q1\n",
    "\n",
    "# Batas bawah dan atas\n",
    "lower_bound = Q1 - 1.5 * IQR\n",
    "upper_bound = Q3 + 1.5 * IQR\n",
    "\n",
    "print(f\"Jumlah data sebelum menghapus outlier: {df.shape[0]}\")\n",
    "\n",
    "# Hapus outlier\n",
    "df = df[~((df.iloc[:, :-1] < lower_bound) | (df.iloc[:, :-1] > upper_bound)).any(axis=1)]\n",
    "\n",
    "print(f\"Jumlah data setelah menghapus outlier: {df.shape[0]}\")\n"
   ]
  },
  {
   "cell_type": "markdown",
   "metadata": {},
   "source": [
    "---\n",
    "<center style=\"color:red\"><b>PENJELASAN</b></center>\n",
    "\n",
    "---\n",
    "dalam kode di atas, kita menggunakan metode **IQR** untuk menghilangkan outliernya. Metode ini bekerja dengan cara menghapus data yang berada di luar rentang normal, yaitu data yang berada di bawah batas bawah (lower bound) dan di atas batas atas (upper bound).\n",
    "\n",
    "---"
   ]
  },
  {
   "cell_type": "code",
   "execution_count": 5,
   "metadata": {},
   "outputs": [
    {
     "data": {
      "image/png": "[encoded data removed]",
      "text/plain": [
       "<Figure size 1000x600 with 1 Axes>"
      ]
     },
     "metadata": {},
     "output_type": "display_data"
    }
   ],
   "source": [
    "# Boxplot setelah menghapus outlier\n",
    "plt.figure(figsize=(10, 6))\n",
    "sns.boxplot(data=df.iloc[:, :-1])  # Exclude kolom 'class'\n",
    "plt.title(\"Boxplot Setelah Menghapus Outlier\")\n",
    "plt.show()\n"
   ]
  },
  {
   "cell_type": "markdown",
   "metadata": {},
   "source": [
    "---\n",
    "<center style=\"color:red\"><b>PENJELASAN</b></center>\n",
    "\n",
    "---\n",
    "\n",
    "Dalam kode `sns.boxplot(data=df.iloc[:, :-1])`, kita memvisualisasikan data setelah menghapus outlier. Dari boxplot, kita dapat melihat bahwa **tidak ada lagi outlier**, yang ditandai dengan lingkaran di luar whiskers. Hal ini menunjukkan bahwa data telah bersih dan distribusinya kini lebih sesuai dengan rentang normal.\n",
    "\n",
    "---"
   ]
  },
  {
   "cell_type": "markdown",
   "metadata": {},
   "source": [
    "## **DATA DUPLIKASI**"
   ]
  },
  {
   "cell_type": "code",
   "execution_count": 6,
   "metadata": {},
   "outputs": [
    {
     "data": {
      "text/html": [
       "<div>\n",
       "<style scoped>\n",
       "    .dataframe tbody tr th:only-of-type {\n",
       "        vertical-align: middle;\n",
       "    }\n",
       "\n",
       "    .dataframe tbody tr th {\n",
       "        vertical-align: top;\n",
       "    }\n",
       "\n",
       "    .dataframe thead th {\n",
       "        text-align: right;\n",
       "    }\n",
       "</style>\n",
       "<table border=\"1\" class=\"dataframe\">\n",
       "  <thead>\n",
       "    <tr style=\"text-align: right;\">\n",
       "      <th></th>\n",
       "      <th>sepal_length</th>\n",
       "      <th>sepal_width</th>\n",
       "      <th>petal_length</th>\n",
       "      <th>petal_width</th>\n",
       "      <th>class</th>\n",
       "    </tr>\n",
       "  </thead>\n",
       "  <tbody>\n",
       "    <tr>\n",
       "      <th>34</th>\n",
       "      <td>4.9</td>\n",
       "      <td>3.1</td>\n",
       "      <td>1.5</td>\n",
       "      <td>0.1</td>\n",
       "      <td>Iris-setosa</td>\n",
       "    </tr>\n",
       "    <tr>\n",
       "      <th>37</th>\n",
       "      <td>4.9</td>\n",
       "      <td>3.1</td>\n",
       "      <td>1.5</td>\n",
       "      <td>0.1</td>\n",
       "      <td>Iris-setosa</td>\n",
       "    </tr>\n",
       "    <tr>\n",
       "      <th>142</th>\n",
       "      <td>5.8</td>\n",
       "      <td>2.7</td>\n",
       "      <td>5.1</td>\n",
       "      <td>1.9</td>\n",
       "      <td>Iris-virginica</td>\n",
       "    </tr>\n",
       "  </tbody>\n",
       "</table>\n",
       "</div>"
      ],
      "text/plain": [
       "     sepal_length  sepal_width  petal_length  petal_width           class\n",
       "34            4.9          3.1           1.5          0.1     Iris-setosa\n",
       "37            4.9          3.1           1.5          0.1     Iris-setosa\n",
       "142           5.8          2.7           5.1          1.9  Iris-virginica"
      ]
     },
     "execution_count": 6,
     "metadata": {},
     "output_type": "execute_result"
    }
   ],
   "source": [
    "df[df.duplicated()]"
   ]
  },
  {
   "cell_type": "markdown",
   "metadata": {},
   "source": [
    "---\n",
    "<center style=\"color:red\"><b>PENJELASAN</b></center>\n",
    "\n",
    "---\n",
    "dalam kode di atas `df[df.duplicated()]` kita mencoba melihat apakah **ada data yang terduplikasi atau tidak**. Dari hasil tersebut, kita dapat melihat kalau **ada data yang terduplikasi**. Maka kita akan masuk pada tahapan selanjutnya untuk menghilangkan data duplikasi tersebut.\n",
    "\n",
    "---"
   ]
  },
  {
   "cell_type": "code",
   "execution_count": 7,
   "metadata": {},
   "outputs": [
    {
     "name": "stderr",
     "output_type": "stream",
     "text": [
      "C:\\Users\\dirga\\AppData\\Local\\Temp\\ipykernel_7848\\3054484884.py:1: SettingWithCopyWarning: \n",
      "A value is trying to be set on a copy of a slice from a DataFrame\n",
      "\n",
      "See the caveats in the documentation: https://pandas.pydata.org/pandas-docs/stable/user_guide/indexing.html#returning-a-view-versus-a-copy\n",
      "  df.drop_duplicates(inplace=True)\n"
     ]
    },
    {
     "data": {
      "text/plain": [
       "(143, 5)"
      ]
     },
     "execution_count": 7,
     "metadata": {},
     "output_type": "execute_result"
    }
   ],
   "source": [
    "df.drop_duplicates(inplace=True)\n",
    "df.shape"
   ]
  },
  {
   "cell_type": "markdown",
   "metadata": {},
   "source": [
    "---\n",
    "<center style=\"color:red\"><b>PENJELASAN</b></center>\n",
    "\n",
    "---\n",
    "dalam kode di atas `df.drop_duplicates(inplace=True)` telah menghilangkan data yang terduplikasi tersebut. kemudian pada kode `df.shape` kita dapat melihat hasil **kolom dan baris** nya menjadi `(143, 5)`.\n",
    "\n",
    "---"
   ]
  },
  {
   "cell_type": "markdown",
   "metadata": {},
   "source": [
    "<center><h2><b>DATA KOSONG</b></h2></center>"
   ]
  },
  {
   "cell_type": "code",
   "execution_count": 8,
   "metadata": {},
   "outputs": [
    {
     "data": {
      "text/plain": [
       "sepal_length    0\n",
       "sepal_width     0\n",
       "petal_length    0\n",
       "petal_width     0\n",
       "class           0\n",
       "dtype: int64"
      ]
     },
     "execution_count": 8,
     "metadata": {},
     "output_type": "execute_result"
    }
   ],
   "source": [
    "df.isna().sum()"
   ]
  },
  {
   "cell_type": "markdown",
   "metadata": {},
   "source": [
    "---\n",
    "<center style=\"color:red\"><b>PENJELASAN</b></center>\n",
    "\n",
    "---\n",
    "dalam kode di atas `df.isna().sum()` kita akan melihat dari data tersebut apakah `ada data kosong atau tidak`. Dari hasil diatas tidak terdapat data yang kosong. Maka kita bisa lanjut ke tahapan selanjutnya. `df.isna()` artinya kita akan melihat untuk apakah suatu data itu kosong atau tidak. `.sum()` digunakan untuk menghitung berapa banyak data untuk setiap kolom yang hilang.\n",
    "\n",
    "---"
   ]
  },
  {
   "cell_type": "code",
   "execution_count": 9,
   "metadata": {},
   "outputs": [],
   "source": [
    "# import numpy as np\n",
    "\n",
    "# class KMeans:\n",
    "#     def __init__(self, n_clusters=3, max_iter=100, min_diff=1e-4, random_state=None):\n",
    "#         self.n_clusters = n_clusters\n",
    "#         self.max_iter = max_iter\n",
    "#         self.min_diff = min_diff\n",
    "#         self.random_state = random_state\n",
    "#         self.centroids = None\n",
    "#         self.labels = None\n",
    "\n",
    "#     def fit(self, data):\n",
    "#         np.random.seed(self.random_state)\n",
    "#         # Inisialisasi centroids secara acak\n",
    "#         self.centroids = self._initialize_centroids(data)\n",
    "        \n",
    "#         for i in range(self.max_iter):\n",
    "#             # Hitung jarak ke centroid terdekat untuk setiap titik\n",
    "#             distances = self._compute_distances(data, self.centroids)\n",
    "#             # Tentukan label untuk setiap titik berdasarkan jarak minimum\n",
    "#             new_labels = np.argmin(distances, axis=1)\n",
    "\n",
    "#             # Cek apakah label berubah, jika tidak berarti sudah konvergen\n",
    "#             if np.all(new_labels == self.labels):\n",
    "#                 break\n",
    "#             self.labels = new_labels\n",
    "\n",
    "#             # Hitung centroid baru untuk setiap cluster\n",
    "#             new_centroids = np.array([\n",
    "#                 data[self.labels == j].mean(axis=0) for j in range(self.n_clusters)\n",
    "#             ])\n",
    "\n",
    "#             # Cek apakah perubahan centroid sudah sangat kecil\n",
    "#             diff = np.linalg.norm(self.centroids - new_centroids)\n",
    "#             if diff < self.min_diff:\n",
    "#                 break\n",
    "\n",
    "#             self.centroids = new_centroids\n",
    "\n",
    "#     def predict(self, data):\n",
    "#         # Menghitung jarak ke centroid dan memberikan label terdekat\n",
    "#         distances = self._compute_distances(data, self.centroids)\n",
    "#         return np.argmin(distances, axis=1)\n",
    "\n",
    "#     def _initialize_centroids(self, data):\n",
    "#         # Pilih centroids secara acak dari data\n",
    "#         indices = np.random.choice(data.shape[0], self.n_clusters, replace=False)\n",
    "#         return data[indices]\n",
    "\n",
    "#     def _compute_distances(self, data, centroids):\n",
    "#         # Menghitung jarak Euclidean antara setiap titik data dan centroids\n",
    "#         return np.linalg.norm(data[:, np.newaxis] - centroids, axis=2)\n",
    "\n",
    "#     def compute_wcss(self, data):\n",
    "#         labels = self.predict(data)\n",
    "#         wcss = 0\n",
    "#         for i in range(self.n_clusters):\n",
    "#             cluster_data = data[labels == i]\n",
    "#             cluster_centroid = self.centroids[i]\n",
    "#             wcss += np.sum(np.linalg.norm(cluster_data - cluster_centroid, axis=1) ** 2)\n",
    "#         return wcss"
   ]
  },
  {
   "cell_type": "code",
   "execution_count": 10,
   "metadata": {},
   "outputs": [],
   "source": [
    "class KMeans:\n",
    "    def __init__(self, n_clusters=3, max_iter=100, min_diff=1e-4, random_state=None,verbose=False):\n",
    "        self.n_clusters = n_clusters\n",
    "        self.max_iter = max_iter\n",
    "        self.min_diff = min_diff\n",
    "        self.random_state = random_state\n",
    "        self.centroids = None\n",
    "        self.verbose = verbose\n",
    "\n",
    "    def fit(self, data):\n",
    "        np.random.seed(self.random_state)\n",
    "        self.centroids = self._initialize_centroids(data)\n",
    "        \n",
    "        # Menampilkan centroid awal\n",
    "        # print(\"Centroid Awal:\")\n",
    "        # print(self.centroids)\n",
    "        if self.verbose:\n",
    "            # Menampilkan centroid awal\n",
    "            print(\"Centroid Awal :\")\n",
    "            print(self.centroids)\n",
    "\n",
    "        for iteration in range(self.max_iter):\n",
    "            distances = self._compute_distances(data, self.centroids)\n",
    "            labels = np.argmin(distances, axis=1)\n",
    "\n",
    "            # Update centroids\n",
    "            new_centroids = np.copy(self.centroids)\n",
    "            for i in range(self.n_clusters):\n",
    "                cluster_data = data[labels == i]\n",
    "                if len(cluster_data) > 0:\n",
    "                    new_centroids[i] = cluster_data.mean(axis=0)\n",
    "                # Jika cluster kosong, biarkan centroid tetap sama atau pilih acak titik\n",
    "                else:\n",
    "                    new_centroids[i] = data[np.random.choice(data.shape[0])]\n",
    "\n",
    "            diff = np.linalg.norm(self.centroids - new_centroids)\n",
    "            self.centroids = new_centroids\n",
    "\n",
    "            # Jika verbose=True, tampilkan hasil iterasi\n",
    "            if self.verbose:\n",
    "                print(f\"Iteration {iteration + 1}\")\n",
    "                print(f\"Centroids:\\n{self.centroids}\")\n",
    "                print(f\"Difference: {diff}\")\n",
    "\n",
    "            # Jika perubahan centroid sudah cukup kecil, hentikan iterasi\n",
    "            if diff < self.min_diff:\n",
    "                if self.verbose:\n",
    "                    print(f\"Converged after {iteration + 1} iterations.\")\n",
    "                break\n",
    "\n",
    "    def predict(self, data):\n",
    "        distances = self._compute_distances(data, self.centroids)\n",
    "        return np.argmin(distances, axis=1)\n",
    "\n",
    "    def _initialize_centroids(self, data):\n",
    "        # Mendapatkan nilai min dan max untuk setiap fitur\n",
    "        min_vals = np.min(data, axis=0)\n",
    "        max_vals = np.max(data, axis=0)\n",
    "\n",
    "        # Inisialisasi centroid dengan memilih acak di dalam rentang nilai min dan max untuk setiap fitur\n",
    "        centroids = np.random.rand(self.n_clusters, data.shape[1]) * (max_vals - min_vals) + min_vals\n",
    "        \n",
    "        return centroids\n",
    "\n",
    "    def _compute_distances(self, data, centroids):\n",
    "        return np.linalg.norm(data[:, np.newaxis] - centroids, axis=2)\n",
    "\n",
    "    def compute_wcss(self, data):\n",
    "        labels = self.predict(data)\n",
    "        wcss = 0\n",
    "        for i in range(self.n_clusters):\n",
    "            cluster_data = data[labels == i]\n",
    "            cluster_centroid = self.centroids[i]\n",
    "            wcss += np.sum(np.linalg.norm(cluster_data - cluster_centroid, axis=1) ** 2)\n",
    "        return wcss"
   ]
  },
  {
   "cell_type": "code",
   "execution_count": 11,
   "metadata": {},
   "outputs": [],
   "source": [
    "# Mengambil kolom tertentu untuk clustering\n",
    "data = df[['sepal_length', 'petal_length']].values\n"
   ]
  },
  {
   "cell_type": "code",
   "execution_count": 12,
   "metadata": {},
   "outputs": [
    {
     "data": {
      "image/png": "[encoded data removed]",
      "text/plain": [
       "<Figure size 800x600 with 1 Axes>"
      ]
     },
     "metadata": {},
     "output_type": "display_data"
    }
   ],
   "source": [
    "# Menyimpan nilai WCSS untuk setiap jumlah cluster\n",
    "wcss = []\n",
    "\n",
    "# Melakukan KMeans untuk cluster 1 sampai 10\n",
    "for i in range(1, 11):\n",
    "    kmeans = KMeans(n_clusters=i, max_iter=100, min_diff=1e-4, random_state=42, verbose=False)\n",
    "    kmeans.fit(data)\n",
    "    wcss.append(kmeans.compute_wcss(data))\n",
    "\n",
    "# Plot Elbow Curve\n",
    "plt.figure(figsize=(8, 6))\n",
    "plt.plot(range(1, 11), wcss, marker='o')\n",
    "plt.title('Elbow Method For Optimal k')\n",
    "plt.xlabel('Number of Clusters')\n",
    "plt.ylabel('WCSS')\n",
    "plt.grid(True)\n",
    "plt.show()"
   ]
  },
  {
   "cell_type": "code",
   "execution_count": 13,
   "metadata": {},
   "outputs": [
    {
     "name": "stdout",
     "output_type": "stream",
     "text": [
      "Centroid Awal :\n",
      "[[5.64834443 6.60921441]\n",
      " [6.93517819 4.53208506]\n",
      " [4.86166711 1.92036767]]\n",
      "Iteration 1\n",
      "Centroids:\n",
      "[[6.93636364 6.15454545]\n",
      " [6.23928571 4.81785714]\n",
      " [4.98125    1.57083333]]\n",
      "Difference: 1.6025366402592476\n",
      "Iteration 2\n",
      "Centroids:\n",
      "[[7.0625     5.99583333]\n",
      " [6.06901408 4.62676056]\n",
      " [4.98125    1.57083333]]\n",
      "Difference: 0.3265122512958691\n",
      "Iteration 3\n",
      "Centroids:\n",
      "[[6.96206897 5.90344828]\n",
      " [6.02238806 4.54477612]\n",
      " [4.98085106 1.53404255]]\n",
      "Difference: 0.16991335270717683\n",
      "Iteration 4\n",
      "Centroids:\n",
      "[[6.89393939 5.83636364]\n",
      " [5.98125    4.475     ]\n",
      " [4.9826087  1.49565217]]\n",
      "Difference: 0.13107228793961453\n",
      "Iteration 5\n",
      "Centroids:\n",
      "[[6.85945946 5.75945946]\n",
      " [5.94166667 4.43166667]\n",
      " [4.9826087  1.49565217]]\n",
      "Difference: 0.10270217311529975\n",
      "Iteration 6\n",
      "Centroids:\n",
      "[[6.85384615 5.71538462]\n",
      " [5.9137931  4.41551724]\n",
      " [4.9826087  1.49565217]]\n",
      "Difference: 0.05488023818945778\n",
      "Iteration 7\n",
      "Centroids:\n",
      "[[6.8525     5.6925    ]\n",
      " [5.89824561 4.40877193]\n",
      " [4.9826087  1.49565217]]\n",
      "Difference: 0.028508619863176765\n",
      "Iteration 8\n",
      "Centroids:\n",
      "[[6.8525     5.6925    ]\n",
      " [5.89824561 4.40877193]\n",
      " [4.9826087  1.49565217]]\n",
      "Difference: 0.0\n",
      "Converged after 8 iterations.\n"
     ]
    }
   ],
   "source": [
    "# Inisialisasi dan fit dengan KMeans manual\n",
    "kmeans_manual = KMeans(n_clusters=3, max_iter=100, min_diff=1e-4, random_state=42,verbose=True)\n",
    "kmeans_manual.fit(data)"
   ]
  },
  {
   "cell_type": "code",
   "execution_count": 14,
   "metadata": {},
   "outputs": [],
   "source": [
    "# Hasil label cluster\n",
    "labels_manual = kmeans_manual.predict(data)\n",
    "centroids_manual = kmeans_manual.centroids"
   ]
  },
  {
   "cell_type": "code",
   "execution_count": 15,
   "metadata": {},
   "outputs": [
    {
     "data": {
      "image/png": "[encoded data removed]",
      "text/plain": [
       "<Figure size 800x600 with 1 Axes>"
      ]
     },
     "metadata": {},
     "output_type": "display_data"
    }
   ],
   "source": [
    "# Visualisasi hasil manual\n",
    "plt.figure(figsize=(8, 6))\n",
    "for i in range(kmeans_manual.n_clusters):\n",
    "    cluster_points = data[labels_manual == i]  # Data tiap cluster\n",
    "    plt.scatter(                        \n",
    "        cluster_points[:, 0], \n",
    "        cluster_points[:, 1], \n",
    "        label=f'Cluster {i}'\n",
    "    )\n",
    "# Plot centroid\n",
    "plt.scatter(\n",
    "    centroids_manual[:, 0], \n",
    "    centroids_manual[:, 1], \n",
    "    s=200, c='black', marker='x', label='Centroids'\n",
    ")\n",
    "plt.title('KMeans Manual Clustering')\n",
    "plt.xlabel('SepalLengthCm')\n",
    "plt.ylabel('PetalLengthCm')\n",
    "plt.legend()\n",
    "plt.grid(True)\n",
    "plt.show()"
   ]
  },
  {
   "cell_type": "code",
   "execution_count": 16,
   "metadata": {},
   "outputs": [
    {
     "name": "stdout",
     "output_type": "stream",
     "text": [
      "[1 1]\n"
     ]
    }
   ],
   "source": [
    "# Contoh prediksi untuk data baru\n",
    "new_data = np.array([[5.1, 3.5], [6.0, 3.0]])\n",
    "predictions = kmeans_manual.predict(new_data)\n",
    "print(predictions)\n"
   ]
  }
 ],
 "metadata": {
  "kernelspec": {
   "display_name": "python3.11",
   "language": "python",
   "name": "python3"
  },
  "language_info": {
   "codemirror_mode": {
    "name": "ipython",
    "version": 3
   },
   "file_extension": ".py",
   "mimetype": "text/x-python",
   "name": "python",
   "nbconvert_exporter": "python",
   "pygments_lexer": "ipython3",
   "version": "3.11.9"
  }
 },
 "nbformat": 4,
 "nbformat_minor": 2
}
