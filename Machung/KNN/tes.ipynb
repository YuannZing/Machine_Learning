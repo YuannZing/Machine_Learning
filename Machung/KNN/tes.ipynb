{
 "cells": [
  {
   "cell_type": "code",
   "execution_count": 10,
   "metadata": {},
   "outputs": [
    {
     "data": {
      "text/html": [
       "<div>\n",
       "<style scoped>\n",
       "    .dataframe tbody tr th:only-of-type {\n",
       "        vertical-align: middle;\n",
       "    }\n",
       "\n",
       "    .dataframe tbody tr th {\n",
       "        vertical-align: top;\n",
       "    }\n",
       "\n",
       "    .dataframe thead th {\n",
       "        text-align: right;\n",
       "    }\n",
       "</style>\n",
       "<table border=\"1\" class=\"dataframe\">\n",
       "  <thead>\n",
       "    <tr style=\"text-align: right;\">\n",
       "      <th></th>\n",
       "      <th>sepal_length</th>\n",
       "      <th>sepal_width</th>\n",
       "      <th>petal_length</th>\n",
       "      <th>petal_width</th>\n",
       "      <th>class</th>\n",
       "    </tr>\n",
       "  </thead>\n",
       "  <tbody>\n",
       "    <tr>\n",
       "      <th>0</th>\n",
       "      <td>5.1</td>\n",
       "      <td>3.5</td>\n",
       "      <td>1.4</td>\n",
       "      <td>0.2</td>\n",
       "      <td>Iris-setosa</td>\n",
       "    </tr>\n",
       "    <tr>\n",
       "      <th>1</th>\n",
       "      <td>4.9</td>\n",
       "      <td>3.0</td>\n",
       "      <td>1.4</td>\n",
       "      <td>0.2</td>\n",
       "      <td>Iris-setosa</td>\n",
       "    </tr>\n",
       "    <tr>\n",
       "      <th>2</th>\n",
       "      <td>4.7</td>\n",
       "      <td>3.2</td>\n",
       "      <td>1.3</td>\n",
       "      <td>0.2</td>\n",
       "      <td>Iris-setosa</td>\n",
       "    </tr>\n",
       "    <tr>\n",
       "      <th>3</th>\n",
       "      <td>4.6</td>\n",
       "      <td>3.1</td>\n",
       "      <td>1.5</td>\n",
       "      <td>0.2</td>\n",
       "      <td>Iris-setosa</td>\n",
       "    </tr>\n",
       "    <tr>\n",
       "      <th>4</th>\n",
       "      <td>5.0</td>\n",
       "      <td>3.6</td>\n",
       "      <td>1.4</td>\n",
       "      <td>0.2</td>\n",
       "      <td>Iris-setosa</td>\n",
       "    </tr>\n",
       "  </tbody>\n",
       "</table>\n",
       "</div>"
      ],
      "text/plain": [
       "   sepal_length  sepal_width  petal_length  petal_width        class\n",
       "0           5.1          3.5           1.4          0.2  Iris-setosa\n",
       "1           4.9          3.0           1.4          0.2  Iris-setosa\n",
       "2           4.7          3.2           1.3          0.2  Iris-setosa\n",
       "3           4.6          3.1           1.5          0.2  Iris-setosa\n",
       "4           5.0          3.6           1.4          0.2  Iris-setosa"
      ]
     },
     "execution_count": 10,
     "metadata": {},
     "output_type": "execute_result"
    }
   ],
   "source": [
    "import pandas as pd\n",
    "import numpy as np\n",
    "\n",
    "\n",
    "# Membaca dataset iris.csv\n",
    "df = pd.read_csv(\"../data iris.csv\", delimiter=\";\")\n",
    "\n",
    "# Menampilkan 5 baris pertama\n",
    "df.head()\n",
    "\n"
   ]
  },
  {
   "cell_type": "markdown",
   "metadata": {},
   "source": [
    "## Data Cleaning"
   ]
  },
  {
   "cell_type": "code",
   "execution_count": 11,
   "metadata": {},
   "outputs": [
    {
     "name": "stdout",
     "output_type": "stream",
     "text": [
      "Jumlah data sebelum menghapus outlier: 150\n",
      "Jumlah data setelah menghapus outlier: 146\n"
     ]
    }
   ],
   "source": [
    "# Hitung Q1, Q3, dan IQR untuk setiap kolom numerik\n",
    "Q1 = df.iloc[:, :-1].quantile(0.25)\n",
    "Q3 = df.iloc[:, :-1].quantile(0.75)\n",
    "IQR = Q3 - Q1\n",
    "\n",
    "# Batas bawah dan atas\n",
    "lower_bound = Q1 - 1.5 * IQR\n",
    "upper_bound = Q3 + 1.5 * IQR\n",
    "\n",
    "print(f\"Jumlah data sebelum menghapus outlier: {df.shape[0]}\")\n",
    "\n",
    "# Hapus outlier\n",
    "df = df[~((df.iloc[:, :-1] < lower_bound) | (df.iloc[:, :-1] > upper_bound)).any(axis=1)]\n",
    "\n",
    "print(f\"Jumlah data setelah menghapus outlier: {df.shape[0]}\")\n"
   ]
  },
  {
   "cell_type": "code",
   "execution_count": 12,
   "metadata": {},
   "outputs": [
    {
     "data": {
      "text/plain": [
       "(143, 5)"
      ]
     },
     "execution_count": 12,
     "metadata": {},
     "output_type": "execute_result"
    }
   ],
   "source": [
    "df.drop_duplicates(inplace=True)\n",
    "df.shape"
   ]
  },
  {
   "cell_type": "code",
   "execution_count": 13,
   "metadata": {},
   "outputs": [
    {
     "data": {
      "text/plain": [
       "sepal_length    0\n",
       "sepal_width     0\n",
       "petal_length    0\n",
       "petal_width     0\n",
       "class           0\n",
       "dtype: int64"
      ]
     },
     "execution_count": 13,
     "metadata": {},
     "output_type": "execute_result"
    }
   ],
   "source": [
    "df.isna().sum()"
   ]
  },
  {
   "cell_type": "code",
   "execution_count": 14,
   "metadata": {},
   "outputs": [
    {
     "name": "stdout",
     "output_type": "stream",
     "text": [
      "     sepal_length  sepal_width  petal_length  petal_width            class\n",
      "123           6.3          2.7           4.9          1.8   Iris-virginica\n",
      "20            5.4          3.4           1.7          0.2      Iris-setosa\n",
      "88            5.6          3.0           4.1          1.3  Iris-versicolor\n",
      "103           6.3          2.9           5.6          1.8   Iris-virginica\n",
      "62            6.0          2.2           4.0          1.0  Iris-versicolor\n",
      "12            4.8          3.0           1.4          0.1      Iris-setosa\n",
      "137           6.4          3.1           5.5          1.8   Iris-virginica\n",
      "71            6.1          2.8           4.0          1.3  Iris-versicolor\n",
      "72            6.3          2.5           4.9          1.5  Iris-versicolor\n",
      "19            5.1          3.8           1.5          0.3      Iris-setosa\n"
     ]
    }
   ],
   "source": [
    "\n",
    "# Mengambil 10 sample data secara acak\n",
    "sample_data = df.sample(n=10, random_state=42)\n",
    "\n",
    "print(sample_data)"
   ]
  },
  {
   "cell_type": "code",
   "execution_count": 15,
   "metadata": {},
   "outputs": [
    {
     "data": {
      "text/plain": [
       "0         Iris-setosa\n",
       "1         Iris-setosa\n",
       "2         Iris-setosa\n",
       "3         Iris-setosa\n",
       "4         Iris-setosa\n",
       "            ...      \n",
       "145    Iris-virginica\n",
       "146    Iris-virginica\n",
       "147    Iris-virginica\n",
       "148    Iris-virginica\n",
       "149    Iris-virginica\n",
       "Name: class, Length: 143, dtype: object"
      ]
     },
     "execution_count": 15,
     "metadata": {},
     "output_type": "execute_result"
    }
   ],
   "source": [
    "X = df.drop(columns=\"class\")\n",
    "y = df[\"class\"]\n",
    "\n",
    "y"
   ]
  },
  {
   "cell_type": "code",
   "execution_count": 16,
   "metadata": {},
   "outputs": [],
   "source": [
    "def train_test_split_manual(X, y, test_size=0.2, random_state=None, shuffle=True):\n",
    "    \"\"\"\n",
    "    Membagi dataset menjadi training set dan test set secara manual.\n",
    "    \n",
    "    Parameters:\n",
    "    X : numpy array atau pandas DataFrame\n",
    "        Fitur dari dataset.\n",
    "    y : numpy array atau pandas Series\n",
    "        Label dari dataset.\n",
    "    test_size : float\n",
    "        Proporsi data yang digunakan untuk test set (default 0.2 / 20%).\n",
    "    random_state : int, optional\n",
    "        Seed untuk random generator agar hasilnya konsisten.\n",
    "    shuffle : bool, optional\n",
    "        Jika True, data akan diacak sebelum dibagi (default: True).\n",
    "    \n",
    "    Returns:\n",
    "    X_train, X_test, y_train, y_test : numpy arrays\n",
    "        Data yang sudah dibagi menjadi training dan testing set.\n",
    "    \"\"\"\n",
    "    # Konversi X dan y ke numpy array jika masih dalam bentuk DataFrame atau Series\n",
    "    if random_state:\n",
    "        np.random.seed(random_state)\n",
    "    indices = np.arange(len(X))\n",
    "    np.random.shuffle(indices)\n",
    "\n",
    "    test_size = int(len(X) * test_size)\n",
    "    train_indices, test_indices = indices[test_size:], indices[:test_size]\n",
    "\n",
    "    # Pastikan X dan y dalam bentuk NumPy array agar indexing bekerja\n",
    "    X = np.array(X)  # Konversi X ke NumPy array\n",
    "    y = np.array(y)  # Konversi y ke NumPy array\n",
    "\n",
    "    return X[train_indices], X[test_indices], y[train_indices], y[test_indices]\n",
    "\n",
    "\n",
    "\n",
    "# # Contoh penggunaan\n",
    "# data = np.array([[1, 2], [2, 3], [3, 1], [6, 5], [7, 7], [8, 6], [5, 5], [4, 4]])\n",
    "# labels = np.array([0, 0, 0, 1, 1, 1, 1, 0])\n",
    "\n",
    "# X_train, X_test, y_train, y_test = train_test_split_manual(X, y, test_size=0.2, random_state=42)\n",
    "\n",
    "# print(\"X_train:\", X_train)\n",
    "# print(\"X_test:\", X_test)\n",
    "# print(\"y_train:\", y_train)\n",
    "# print(\"y_test:\", y_test)\n"
   ]
  },
  {
   "cell_type": "code",
   "execution_count": 17,
   "metadata": {},
   "outputs": [],
   "source": [
    "class KNN:\n",
    "    def __init__(self, k=3):\n",
    "        self.k = k\n",
    "        self.label_map = None\n",
    "        self.reverse_label_map = None\n",
    "\n",
    "    def fit(self, X_train, y_train):\n",
    "        self.X_train = np.array(X_train)\n",
    "\n",
    "        # Jika label dalam bentuk string, ubah ke angka\n",
    "        if isinstance(y_train[0], str):\n",
    "            unique_labels = np.unique(y_train)\n",
    "            self.label_map = {label: idx for idx, label in enumerate(unique_labels)}\n",
    "            self.reverse_label_map = {idx: label for label, idx in self.label_map.items()}\n",
    "            self.y_train = np.array([self.label_map[label] for label in y_train])\n",
    "        else:\n",
    "            self.y_train = np.array(y_train)\n",
    "\n",
    "    def predict(self, X_test):\n",
    "        predictions = [self._predict(x) for x in X_test]\n",
    "\n",
    "        # Jika ada mapping label, kembalikan ke format aslinya (string)\n",
    "        if self.reverse_label_map:\n",
    "            return np.array([self.reverse_label_map[pred] for pred in predictions])\n",
    "        return np.array(predictions)\n",
    "\n",
    "    def _predict(self, x):\n",
    "        distances = np.linalg.norm(self.X_train - x, axis=1)\n",
    "        k_indices = np.argsort(distances)[:self.k]\n",
    "        k_nearest_labels = self.y_train[k_indices]\n",
    "        most_common = np.bincount(k_nearest_labels).argmax()\n",
    "        return most_common\n",
    "\n",
    "    def accuracy(self, X_test, y_test):\n",
    "        y_pred = self.predict(X_test)\n",
    "\n",
    "        # Jika y_test berbentuk string, ubah dulu ke angka untuk perbandingan\n",
    "        if isinstance(y_test[0], str):\n",
    "            y_test_numeric = np.array([self.label_map[label] for label in y_test])\n",
    "            y_pred_numeric = np.array([self.label_map[label] for label in y_pred])\n",
    "            return np.mean(y_pred_numeric == y_test_numeric)\n",
    "\n",
    "        return np.mean(y_pred == y_test)\n"
   ]
  },
  {
   "cell_type": "code",
   "execution_count": 18,
   "metadata": {},
   "outputs": [
    {
     "name": "stdout",
     "output_type": "stream",
     "text": [
      "K = 1 Akurasi: 0.86\n",
      "K = 3 Akurasi: 0.86\n",
      "K = 5 Akurasi: 0.89\n",
      "K = 7 Akurasi: 0.93\n",
      "K = 9 Akurasi: 0.96\n",
      "K = 11 Akurasi: 0.96\n",
      "K = 13 Akurasi: 0.93\n",
      "K = 15 Akurasi: 0.96\n",
      "K = 17 Akurasi: 0.96\n",
      "K = 19 Akurasi: 0.93\n",
      "K = 21 Akurasi: 0.89\n",
      "K = 23 Akurasi: 0.89\n",
      "K = 25 Akurasi: 0.89\n",
      "K = 27 Akurasi: 0.89\n",
      "K = 29 Akurasi: 0.86\n"
     ]
    }
   ],
   "source": [
    "# Split dataset\n",
    "X_train, X_test, y_train, y_test = train_test_split_manual(X, y, test_size=0.2, random_state=42)\n",
    "    \n",
    "# Inisialisasi dan latih model\n",
    "for i in range(1, 30, 2):\n",
    "    knn = KNN(k=i)\n",
    "    knn.fit(X_train, y_train)\n",
    "    # Akurasi\n",
    "    acc = knn.accuracy(X_test, y_test)\n",
    "    print(f\"K = {i} Akurasi: {acc:.2f}\")\n",
    "    \n",
    "# # Prediksi\n",
    "# predictions = knn.predict(X_test)\n",
    "# print(\"Prediksi:\", predictions)\n",
    "    \n",
    "# # Akurasi\n",
    "# acc = knn.accuracy(X_test, y_test)\n",
    "# print(\"Akurasi:\", acc)"
   ]
  },
  {
   "cell_type": "code",
   "execution_count": 21,
   "metadata": {},
   "outputs": [
    {
     "name": "stdout",
     "output_type": "stream",
     "text": [
      "\n",
      "Masukkan nilai fitur untuk prediksi:\n",
      "\n",
      "=== Hasil Prediksi ===\n",
      "Jenis Iris: Iris-virginica\n"
     ]
    }
   ],
   "source": [
    "# Fungsi input manual\n",
    "def predict_manual(knn_model):\n",
    "    print(\"\\nMasukkan nilai fitur untuk prediksi:\")\n",
    "    sepal_length = float(input(\"Sepal Length: \"))\n",
    "    sepal_width = float(input(\"Sepal Width: \"))\n",
    "    petal_length = float(input(\"Petal Length: \"))\n",
    "    petal_width = float(input(\"Petal Width: \"))\n",
    "\n",
    "    input_data = np.array([[sepal_length, sepal_width, petal_length, petal_width]])\n",
    "    prediction = knn_model.predict(input_data)\n",
    "\n",
    "    print(\"\\n=== Hasil Prediksi ===\")\n",
    "    print(f\"Jenis Iris: {prediction[0]}\") \n",
    "\n",
    "# Panggil fungsi prediksi manual\n",
    "predict_manual(knn)\n"
   ]
  }
 ],
 "metadata": {
  "kernelspec": {
   "display_name": "python3.11",
   "language": "python",
   "name": "python3"
  },
  "language_info": {
   "codemirror_mode": {
    "name": "ipython",
    "version": 3
   },
   "file_extension": ".py",
   "mimetype": "text/x-python",
   "name": "python",
   "nbconvert_exporter": "python",
   "pygments_lexer": "ipython3",
   "version": "3.11.9"
  }
 },
 "nbformat": 4,
 "nbformat_minor": 2
}
