{
  "nbformat": 4,
  "nbformat_minor": 0,
  "metadata": {
    "colab": {
      "provenance": []
    },
    "kernelspec": {
      "name": "python3",
      "display_name": "Python 3"
    },
    "language_info": {
      "name": "python"
    }
  },
  "cells": [
    {
      "cell_type": "markdown",
      "source": [
        "## **INSTALISASI LIBRARY**"
      ],
      "metadata": {
        "id": "aq3cQ75fqr4v"
      }
    },
    {
      "cell_type": "markdown",
      "source": [
        "Library Seaborn ini digunakan untuk menampilkan data dengan tujuan analisis"
      ],
      "metadata": {
        "id": "Htpgiw-oq7sU"
      }
    },
    {
      "cell_type": "code",
      "source": [
        "pip install seaborn"
      ],
      "metadata": {
        "id": "LmiLRqJk4Bri",
        "colab": {
          "base_uri": "https://localhost:8080/"
        },
        "outputId": "90672c88-bfad-4896-9314-9c24f53f547d"
      },
      "execution_count": null,
      "outputs": [
        {
          "output_type": "stream",
          "name": "stdout",
          "text": [
            "Requirement already satisfied: seaborn in /usr/local/lib/python3.10/dist-packages (0.13.2)\n",
            "Requirement already satisfied: numpy!=1.24.0,>=1.20 in /usr/local/lib/python3.10/dist-packages (from seaborn) (1.26.4)\n",
            "Requirement already satisfied: pandas>=1.2 in /usr/local/lib/python3.10/dist-packages (from seaborn) (2.2.2)\n",
            "Requirement already satisfied: matplotlib!=3.6.1,>=3.4 in /usr/local/lib/python3.10/dist-packages (from seaborn) (3.8.0)\n",
            "Requirement already satisfied: contourpy>=1.0.1 in /usr/local/lib/python3.10/dist-packages (from matplotlib!=3.6.1,>=3.4->seaborn) (1.3.1)\n",
            "Requirement already satisfied: cycler>=0.10 in /usr/local/lib/python3.10/dist-packages (from matplotlib!=3.6.1,>=3.4->seaborn) (0.12.1)\n",
            "Requirement already satisfied: fonttools>=4.22.0 in /usr/local/lib/python3.10/dist-packages (from matplotlib!=3.6.1,>=3.4->seaborn) (4.55.3)\n",
            "Requirement already satisfied: kiwisolver>=1.0.1 in /usr/local/lib/python3.10/dist-packages (from matplotlib!=3.6.1,>=3.4->seaborn) (1.4.7)\n",
            "Requirement already satisfied: packaging>=20.0 in /usr/local/lib/python3.10/dist-packages (from matplotlib!=3.6.1,>=3.4->seaborn) (24.2)\n",
            "Requirement already satisfied: pillow>=6.2.0 in /usr/local/lib/python3.10/dist-packages (from matplotlib!=3.6.1,>=3.4->seaborn) (11.0.0)\n",
            "Requirement already satisfied: pyparsing>=2.3.1 in /usr/local/lib/python3.10/dist-packages (from matplotlib!=3.6.1,>=3.4->seaborn) (3.2.0)\n",
            "Requirement already satisfied: python-dateutil>=2.7 in /usr/local/lib/python3.10/dist-packages (from matplotlib!=3.6.1,>=3.4->seaborn) (2.8.2)\n",
            "Requirement already satisfied: pytz>=2020.1 in /usr/local/lib/python3.10/dist-packages (from pandas>=1.2->seaborn) (2024.2)\n",
            "Requirement already satisfied: tzdata>=2022.7 in /usr/local/lib/python3.10/dist-packages (from pandas>=1.2->seaborn) (2024.2)\n",
            "Requirement already satisfied: six>=1.5 in /usr/local/lib/python3.10/dist-packages (from python-dateutil>=2.7->matplotlib!=3.6.1,>=3.4->seaborn) (1.17.0)\n"
          ]
        }
      ]
    },
    {
      "cell_type": "markdown",
      "source": [
        "Sedangkan untuk library pandas digunakan untuk mengolah data. Dan untuk numpy digunakan untuk perhitungan data secara matematis (dalam matriks)"
      ],
      "metadata": {
        "id": "AyjxVX-vrC8s"
      }
    },
    {
      "cell_type": "code",
      "execution_count": null,
      "metadata": {
        "id": "RwYEagLH26bg",
        "colab": {
          "base_uri": "https://localhost:8080/"
        },
        "outputId": "698656aa-2ef6-4c87-e533-3e2841072dc4"
      },
      "outputs": [
        {
          "output_type": "stream",
          "name": "stdout",
          "text": [
            "Requirement already satisfied: pandas in /usr/local/lib/python3.10/dist-packages (2.2.2)\n",
            "Requirement already satisfied: numpy in /usr/local/lib/python3.10/dist-packages (1.26.4)\n",
            "Requirement already satisfied: python-dateutil>=2.8.2 in /usr/local/lib/python3.10/dist-packages (from pandas) (2.8.2)\n",
            "Requirement already satisfied: pytz>=2020.1 in /usr/local/lib/python3.10/dist-packages (from pandas) (2024.2)\n",
            "Requirement already satisfied: tzdata>=2022.7 in /usr/local/lib/python3.10/dist-packages (from pandas) (2024.2)\n",
            "Requirement already satisfied: six>=1.5 in /usr/local/lib/python3.10/dist-packages (from python-dateutil>=2.8.2->pandas) (1.17.0)\n"
          ]
        }
      ],
      "source": [
        "pip install pandas numpy"
      ]
    },
    {
      "cell_type": "markdown",
      "source": [
        "Import file penting dan sediakan data"
      ],
      "metadata": {
        "id": "PX817c6I9rTc"
      }
    },
    {
      "cell_type": "markdown",
      "source": [
        "# **PREPROCESSING DATA**"
      ],
      "metadata": {
        "id": "eqZNe66ah-iz"
      }
    },
    {
      "cell_type": "markdown",
      "source": [
        "pada tahapan ini kita akan melakukan analisa pada data dan mengolah data"
      ],
      "metadata": {
        "id": "m2hlaw-biHie"
      }
    },
    {
      "cell_type": "markdown",
      "source": [
        "## **MENYIAPKAN DATA**"
      ],
      "metadata": {
        "id": "fuyAr4FJeE_a"
      }
    },
    {
      "cell_type": "code",
      "source": [
        "import pandas as pd\n",
        "import seaborn as sns\n",
        "\n",
        "df = pd.read_csv(\"/content/citrus.csv\")\n",
        "\n",
        "df.head()"
      ],
      "metadata": {
        "colab": {
          "base_uri": "https://localhost:8080/",
          "height": 206
        },
        "id": "4F112eov3KR0",
        "outputId": "bf7db40e-d102-4647-e9b9-6f50c1105639"
      },
      "execution_count": null,
      "outputs": [
        {
          "output_type": "execute_result",
          "data": {
            "text/plain": [
              "     name  diameter  weight  red  green  blue\n",
              "0  orange      2.96   86.76  172     85     2\n",
              "1  orange      3.91   88.05  166     78     3\n",
              "2  orange      4.42   95.17  156     81     2\n",
              "3  orange      4.47   95.60  163     81     4\n",
              "4  orange      4.48   95.76  161     72     9"
            ],
            "text/html": [
              "\n",
              "  <div id=\"df-19cbc4bb-a918-47fa-a248-007fab702ec5\" class=\"colab-df-container\">\n",
              "    <div>\n",
              "<style scoped>\n",
              "    .dataframe tbody tr th:only-of-type {\n",
              "        vertical-align: middle;\n",
              "    }\n",
              "\n",
              "    .dataframe tbody tr th {\n",
              "        vertical-align: top;\n",
              "    }\n",
              "\n",
              "    .dataframe thead th {\n",
              "        text-align: right;\n",
              "    }\n",
              "</style>\n",
              "<table border=\"1\" class=\"dataframe\">\n",
              "  <thead>\n",
              "    <tr style=\"text-align: right;\">\n",
              "      <th></th>\n",
              "      <th>name</th>\n",
              "      <th>diameter</th>\n",
              "      <th>weight</th>\n",
              "      <th>red</th>\n",
              "      <th>green</th>\n",
              "      <th>blue</th>\n",
              "    </tr>\n",
              "  </thead>\n",
              "  <tbody>\n",
              "    <tr>\n",
              "      <th>0</th>\n",
              "      <td>orange</td>\n",
              "      <td>2.96</td>\n",
              "      <td>86.76</td>\n",
              "      <td>172</td>\n",
              "      <td>85</td>\n",
              "      <td>2</td>\n",
              "    </tr>\n",
              "    <tr>\n",
              "      <th>1</th>\n",
              "      <td>orange</td>\n",
              "      <td>3.91</td>\n",
              "      <td>88.05</td>\n",
              "      <td>166</td>\n",
              "      <td>78</td>\n",
              "      <td>3</td>\n",
              "    </tr>\n",
              "    <tr>\n",
              "      <th>2</th>\n",
              "      <td>orange</td>\n",
              "      <td>4.42</td>\n",
              "      <td>95.17</td>\n",
              "      <td>156</td>\n",
              "      <td>81</td>\n",
              "      <td>2</td>\n",
              "    </tr>\n",
              "    <tr>\n",
              "      <th>3</th>\n",
              "      <td>orange</td>\n",
              "      <td>4.47</td>\n",
              "      <td>95.60</td>\n",
              "      <td>163</td>\n",
              "      <td>81</td>\n",
              "      <td>4</td>\n",
              "    </tr>\n",
              "    <tr>\n",
              "      <th>4</th>\n",
              "      <td>orange</td>\n",
              "      <td>4.48</td>\n",
              "      <td>95.76</td>\n",
              "      <td>161</td>\n",
              "      <td>72</td>\n",
              "      <td>9</td>\n",
              "    </tr>\n",
              "  </tbody>\n",
              "</table>\n",
              "</div>\n",
              "    <div class=\"colab-df-buttons\">\n",
              "\n",
              "  <div class=\"colab-df-container\">\n",
              "    <button class=\"colab-df-convert\" onclick=\"convertToInteractive('df-19cbc4bb-a918-47fa-a248-007fab702ec5')\"\n",
              "            title=\"Convert this dataframe to an interactive table.\"\n",
              "            style=\"display:none;\">\n",
              "\n",
              "  <svg xmlns=\"http://www.w3.org/2000/svg\" height=\"24px\" viewBox=\"0 -960 960 960\">\n",
              "    <path d=\"M120-120v-720h720v720H120Zm60-500h600v-160H180v160Zm220 220h160v-160H400v160Zm0 220h160v-160H400v160ZM180-400h160v-160H180v160Zm440 0h160v-160H620v160ZM180-180h160v-160H180v160Zm440 0h160v-160H620v160Z\"/>\n",
              "  </svg>\n",
              "    </button>\n",
              "\n",
              "  <style>\n",
              "    .colab-df-container {\n",
              "      display:flex;\n",
              "      gap: 12px;\n",
              "    }\n",
              "\n",
              "    .colab-df-convert {\n",
              "      background-color: #E8F0FE;\n",
              "      border: none;\n",
              "      border-radius: 50%;\n",
              "      cursor: pointer;\n",
              "      display: none;\n",
              "      fill: #1967D2;\n",
              "      height: 32px;\n",
              "      padding: 0 0 0 0;\n",
              "      width: 32px;\n",
              "    }\n",
              "\n",
              "    .colab-df-convert:hover {\n",
              "      background-color: #E2EBFA;\n",
              "      box-shadow: 0px 1px 2px rgba(60, 64, 67, 0.3), 0px 1px 3px 1px rgba(60, 64, 67, 0.15);\n",
              "      fill: #174EA6;\n",
              "    }\n",
              "\n",
              "    .colab-df-buttons div {\n",
              "      margin-bottom: 4px;\n",
              "    }\n",
              "\n",
              "    [theme=dark] .colab-df-convert {\n",
              "      background-color: #3B4455;\n",
              "      fill: #D2E3FC;\n",
              "    }\n",
              "\n",
              "    [theme=dark] .colab-df-convert:hover {\n",
              "      background-color: #434B5C;\n",
              "      box-shadow: 0px 1px 3px 1px rgba(0, 0, 0, 0.15);\n",
              "      filter: drop-shadow(0px 1px 2px rgba(0, 0, 0, 0.3));\n",
              "      fill: #FFFFFF;\n",
              "    }\n",
              "  </style>\n",
              "\n",
              "    <script>\n",
              "      const buttonEl =\n",
              "        document.querySelector('#df-19cbc4bb-a918-47fa-a248-007fab702ec5 button.colab-df-convert');\n",
              "      buttonEl.style.display =\n",
              "        google.colab.kernel.accessAllowed ? 'block' : 'none';\n",
              "\n",
              "      async function convertToInteractive(key) {\n",
              "        const element = document.querySelector('#df-19cbc4bb-a918-47fa-a248-007fab702ec5');\n",
              "        const dataTable =\n",
              "          await google.colab.kernel.invokeFunction('convertToInteractive',\n",
              "                                                    [key], {});\n",
              "        if (!dataTable) return;\n",
              "\n",
              "        const docLinkHtml = 'Like what you see? Visit the ' +\n",
              "          '<a target=\"_blank\" href=https://colab.research.google.com/notebooks/data_table.ipynb>data table notebook</a>'\n",
              "          + ' to learn more about interactive tables.';\n",
              "        element.innerHTML = '';\n",
              "        dataTable['output_type'] = 'display_data';\n",
              "        await google.colab.output.renderOutput(dataTable, element);\n",
              "        const docLink = document.createElement('div');\n",
              "        docLink.innerHTML = docLinkHtml;\n",
              "        element.appendChild(docLink);\n",
              "      }\n",
              "    </script>\n",
              "  </div>\n",
              "\n",
              "\n",
              "<div id=\"df-4a79da1d-11ad-43f8-99b8-ab26e339006d\">\n",
              "  <button class=\"colab-df-quickchart\" onclick=\"quickchart('df-4a79da1d-11ad-43f8-99b8-ab26e339006d')\"\n",
              "            title=\"Suggest charts\"\n",
              "            style=\"display:none;\">\n",
              "\n",
              "<svg xmlns=\"http://www.w3.org/2000/svg\" height=\"24px\"viewBox=\"0 0 24 24\"\n",
              "     width=\"24px\">\n",
              "    <g>\n",
              "        <path d=\"M19 3H5c-1.1 0-2 .9-2 2v14c0 1.1.9 2 2 2h14c1.1 0 2-.9 2-2V5c0-1.1-.9-2-2-2zM9 17H7v-7h2v7zm4 0h-2V7h2v10zm4 0h-2v-4h2v4z\"/>\n",
              "    </g>\n",
              "</svg>\n",
              "  </button>\n",
              "\n",
              "<style>\n",
              "  .colab-df-quickchart {\n",
              "      --bg-color: #E8F0FE;\n",
              "      --fill-color: #1967D2;\n",
              "      --hover-bg-color: #E2EBFA;\n",
              "      --hover-fill-color: #174EA6;\n",
              "      --disabled-fill-color: #AAA;\n",
              "      --disabled-bg-color: #DDD;\n",
              "  }\n",
              "\n",
              "  [theme=dark] .colab-df-quickchart {\n",
              "      --bg-color: #3B4455;\n",
              "      --fill-color: #D2E3FC;\n",
              "      --hover-bg-color: #434B5C;\n",
              "      --hover-fill-color: #FFFFFF;\n",
              "      --disabled-bg-color: #3B4455;\n",
              "      --disabled-fill-color: #666;\n",
              "  }\n",
              "\n",
              "  .colab-df-quickchart {\n",
              "    background-color: var(--bg-color);\n",
              "    border: none;\n",
              "    border-radius: 50%;\n",
              "    cursor: pointer;\n",
              "    display: none;\n",
              "    fill: var(--fill-color);\n",
              "    height: 32px;\n",
              "    padding: 0;\n",
              "    width: 32px;\n",
              "  }\n",
              "\n",
              "  .colab-df-quickchart:hover {\n",
              "    background-color: var(--hover-bg-color);\n",
              "    box-shadow: 0 1px 2px rgba(60, 64, 67, 0.3), 0 1px 3px 1px rgba(60, 64, 67, 0.15);\n",
              "    fill: var(--button-hover-fill-color);\n",
              "  }\n",
              "\n",
              "  .colab-df-quickchart-complete:disabled,\n",
              "  .colab-df-quickchart-complete:disabled:hover {\n",
              "    background-color: var(--disabled-bg-color);\n",
              "    fill: var(--disabled-fill-color);\n",
              "    box-shadow: none;\n",
              "  }\n",
              "\n",
              "  .colab-df-spinner {\n",
              "    border: 2px solid var(--fill-color);\n",
              "    border-color: transparent;\n",
              "    border-bottom-color: var(--fill-color);\n",
              "    animation:\n",
              "      spin 1s steps(1) infinite;\n",
              "  }\n",
              "\n",
              "  @keyframes spin {\n",
              "    0% {\n",
              "      border-color: transparent;\n",
              "      border-bottom-color: var(--fill-color);\n",
              "      border-left-color: var(--fill-color);\n",
              "    }\n",
              "    20% {\n",
              "      border-color: transparent;\n",
              "      border-left-color: var(--fill-color);\n",
              "      border-top-color: var(--fill-color);\n",
              "    }\n",
              "    30% {\n",
              "      border-color: transparent;\n",
              "      border-left-color: var(--fill-color);\n",
              "      border-top-color: var(--fill-color);\n",
              "      border-right-color: var(--fill-color);\n",
              "    }\n",
              "    40% {\n",
              "      border-color: transparent;\n",
              "      border-right-color: var(--fill-color);\n",
              "      border-top-color: var(--fill-color);\n",
              "    }\n",
              "    60% {\n",
              "      border-color: transparent;\n",
              "      border-right-color: var(--fill-color);\n",
              "    }\n",
              "    80% {\n",
              "      border-color: transparent;\n",
              "      border-right-color: var(--fill-color);\n",
              "      border-bottom-color: var(--fill-color);\n",
              "    }\n",
              "    90% {\n",
              "      border-color: transparent;\n",
              "      border-bottom-color: var(--fill-color);\n",
              "    }\n",
              "  }\n",
              "</style>\n",
              "\n",
              "  <script>\n",
              "    async function quickchart(key) {\n",
              "      const quickchartButtonEl =\n",
              "        document.querySelector('#' + key + ' button');\n",
              "      quickchartButtonEl.disabled = true;  // To prevent multiple clicks.\n",
              "      quickchartButtonEl.classList.add('colab-df-spinner');\n",
              "      try {\n",
              "        const charts = await google.colab.kernel.invokeFunction(\n",
              "            'suggestCharts', [key], {});\n",
              "      } catch (error) {\n",
              "        console.error('Error during call to suggestCharts:', error);\n",
              "      }\n",
              "      quickchartButtonEl.classList.remove('colab-df-spinner');\n",
              "      quickchartButtonEl.classList.add('colab-df-quickchart-complete');\n",
              "    }\n",
              "    (() => {\n",
              "      let quickchartButtonEl =\n",
              "        document.querySelector('#df-4a79da1d-11ad-43f8-99b8-ab26e339006d button');\n",
              "      quickchartButtonEl.style.display =\n",
              "        google.colab.kernel.accessAllowed ? 'block' : 'none';\n",
              "    })();\n",
              "  </script>\n",
              "</div>\n",
              "\n",
              "    </div>\n",
              "  </div>\n"
            ],
            "application/vnd.google.colaboratory.intrinsic+json": {
              "type": "dataframe",
              "variable_name": "df",
              "summary": "{\n  \"name\": \"df\",\n  \"rows\": 10000,\n  \"fields\": [\n    {\n      \"column\": \"name\",\n      \"properties\": {\n        \"dtype\": \"category\",\n        \"num_unique_values\": 2,\n        \"samples\": [\n          \"grapefruit\",\n          \"orange\"\n        ],\n        \"semantic_type\": \"\",\n        \"description\": \"\"\n      }\n    },\n    {\n      \"column\": \"diameter\",\n      \"properties\": {\n        \"dtype\": \"number\",\n        \"std\": 1.9478436590925505,\n        \"min\": 2.96,\n        \"max\": 16.45,\n        \"num_unique_values\": 940,\n        \"samples\": [\n          11.37,\n          5.8\n        ],\n        \"semantic_type\": \"\",\n        \"description\": \"\"\n      }\n    },\n    {\n      \"column\": \"weight\",\n      \"properties\": {\n        \"dtype\": \"number\",\n        \"std\": 29.21211926177059,\n        \"min\": 86.76,\n        \"max\": 261.51,\n        \"num_unique_values\": 6627,\n        \"samples\": [\n          192.1,\n          190.16\n        ],\n        \"semantic_type\": \"\",\n        \"description\": \"\"\n      }\n    },\n    {\n      \"column\": \"red\",\n      \"properties\": {\n        \"dtype\": \"number\",\n        \"std\": 10,\n        \"min\": 115,\n        \"max\": 192,\n        \"num_unique_values\": 75,\n        \"samples\": [\n          161,\n          130\n        ],\n        \"semantic_type\": \"\",\n        \"description\": \"\"\n      }\n    },\n    {\n      \"column\": \"green\",\n      \"properties\": {\n        \"dtype\": \"number\",\n        \"std\": 11,\n        \"min\": 31,\n        \"max\": 116,\n        \"num_unique_values\": 80,\n        \"samples\": [\n          91,\n          85\n        ],\n        \"semantic_type\": \"\",\n        \"description\": \"\"\n      }\n    },\n    {\n      \"column\": \"blue\",\n      \"properties\": {\n        \"dtype\": \"number\",\n        \"std\": 9,\n        \"min\": 2,\n        \"max\": 56,\n        \"num_unique_values\": 48,\n        \"samples\": [\n          26,\n          39\n        ],\n        \"semantic_type\": \"\",\n        \"description\": \"\"\n      }\n    }\n  ]\n}"
            }
          },
          "metadata": {},
          "execution_count": 4
        }
      ]
    },
    {
      "cell_type": "markdown",
      "source": [
        "---\n",
        "<center style=\"color:red\"><b>PENJELASAN</b></center>\n",
        "\n",
        "---\n",
        "\n",
        "\n",
        "-> `import pandas as pd`\n",
        "\n",
        "-> `import seaborn as sns`\n",
        "\n",
        "kode tersebut adalah import, dimana tujuannya agar **dapat menggunakan library** tersebut\n",
        "\n",
        "-> `df = pd.read_csv(\n",
        "  \\__path\\__)`\n",
        "\n",
        "kode tersebut merupakan **pengambilan data** dalam bentuk csv agar bisa digunakan dan di simpan dalam kode python dalam variable **df**. Untuk \\__path\\__ sendiri bisa disesuaikan dengan directory data nya\n",
        "\n",
        "-> `df.head()`\n",
        "\n",
        "kode tersebut digunakan untuk **menampilkan 5 data teratas** (secara defaulth). Kamu bisa merubahnya untuk menampilkan berapapun banyak data teratas. Misal kamu ingin menampilkan 7 data teratas, maka kamu harus merubahnya menjadi `df.head(7)`\n",
        "\n",
        "\n",
        "---\n",
        "\n"
      ],
      "metadata": {
        "id": "AxQH__02rcgp"
      }
    },
    {
      "cell_type": "markdown",
      "source": [
        "## **FORMAT DATA**"
      ],
      "metadata": {
        "id": "xtbU5CcPeML4"
      }
    },
    {
      "cell_type": "code",
      "source": [
        "df[\"name\"].unique()"
      ],
      "metadata": {
        "colab": {
          "base_uri": "https://localhost:8080/"
        },
        "id": "0BEHp_m6aDtO",
        "outputId": "73cd16eb-0c12-4eed-c5ef-e73e21dfcfb9"
      },
      "execution_count": null,
      "outputs": [
        {
          "output_type": "execute_result",
          "data": {
            "text/plain": [
              "array(['orange', 'grapefruit'], dtype=object)"
            ]
          },
          "metadata": {},
          "execution_count": 5
        }
      ]
    },
    {
      "cell_type": "markdown",
      "source": [
        "---\n",
        "<center style=\"color:red\"><b>PENJELASAN</b></center>\n",
        "\n",
        "---\n",
        "dalam kode di atas `df.Gender.unique` kita mencoba melihat apakah ada **data yang formatnya berbeda atau tidak**.\n",
        "\n",
        "---"
      ],
      "metadata": {
        "id": "bLLsR1cfuoNi"
      }
    },
    {
      "cell_type": "markdown",
      "source": [
        "## **DATA OUTLIERS**"
      ],
      "metadata": {
        "id": "WYm71jLJeWK9"
      }
    },
    {
      "cell_type": "code",
      "source": [
        "sns.boxplot(df[\"diameter\"])"
      ],
      "metadata": {
        "colab": {
          "base_uri": "https://localhost:8080/",
          "height": 428
        },
        "id": "HoXqpTWQ3rBK",
        "outputId": "474980dd-5430-4f43-e689-5d17ef94ad0b"
      },
      "execution_count": null,
      "outputs": [
        {
          "output_type": "execute_result",
          "data": {
            "text/plain": [
              "<Axes: ylabel='diameter'>"
            ]
          },
          "metadata": {},
          "execution_count": 6
        },
        {
          "output_type": "display_data",
          "data": {
            "text/plain": [
              "<Figure size 640x480 with 1 Axes>"
            ],
            "image/png": "[encoded data removed]"
          },
          "metadata": {}
        }
      ]
    },
    {
      "cell_type": "markdown",
      "source": [
        "---\n",
        "<center style=\"color:red\"><b>PENJELASAN</b></center>\n",
        "\n",
        "---\n",
        "dalam kode di atas `sns.boxplot(df[\"diameter\"])` kita mencoba melihat apakah **datanya ada outliers atau tidak** pada seluruh data *diameter*. Dari hasil yang di atas, kita dapat melihat **terdapat outliers** di bawah persegi (**lingkarang pada titik y di bawah 5 dan mendekati 4**) dan di atas titik y 16.\n",
        "\n",
        "---"
      ],
      "metadata": {
        "id": "j1EJgsmfvV7D"
      }
    },
    {
      "cell_type": "code",
      "source": [
        "sns.boxplot(df[\"weight\"])"
      ],
      "metadata": {
        "colab": {
          "base_uri": "https://localhost:8080/",
          "height": 428
        },
        "id": "2fOmZPT9bWHz",
        "outputId": "56589926-0f50-407b-a78e-29ddc56ceadb"
      },
      "execution_count": null,
      "outputs": [
        {
          "output_type": "execute_result",
          "data": {
            "text/plain": [
              "<Axes: ylabel='weight'>"
            ]
          },
          "metadata": {},
          "execution_count": 7
        },
        {
          "output_type": "display_data",
          "data": {
            "text/plain": [
              "<Figure size 640x480 with 1 Axes>"
            ],
            "image/png": "[encoded data removed]"
          },
          "metadata": {}
        }
      ]
    },
    {
      "cell_type": "markdown",
      "source": [
        "---\n",
        "<center style=\"color:red\"><b>PENJELASAN</b></center>\n",
        "\n",
        "---\n",
        "dalam kode di atas `sns.boxplot(df[\"weight\"])` kita mencoba melihat apakah **datanya ada outliers atau tidak** pada seluruh data *berat*. Dari hasil yang di atas, kita dapat melihat bahwa **tidak terdapat outlier** atau lingkaran dalam grafik tersebut. Seluruh data melalui penyebaran yang sesuai.\n",
        "\n",
        "---"
      ],
      "metadata": {
        "id": "L-4GzE9LxDvY"
      }
    },
    {
      "cell_type": "code",
      "source": [
        "df = df[(df[\"diameter\"]<16) & (df[\"diameter\"]>5)]\n",
        "\n",
        "sns.boxplot(df[\"diameter\"])"
      ],
      "metadata": {
        "colab": {
          "base_uri": "https://localhost:8080/",
          "height": 428
        },
        "id": "s4yFJDzHdDjU",
        "outputId": "10438893-8812-49ca-c78a-d4c6f11dd38f"
      },
      "execution_count": null,
      "outputs": [
        {
          "output_type": "execute_result",
          "data": {
            "text/plain": [
              "<Axes: ylabel='diameter'>"
            ]
          },
          "metadata": {},
          "execution_count": 8
        },
        {
          "output_type": "display_data",
          "data": {
            "text/plain": [
              "<Figure size 640x480 with 1 Axes>"
            ],
            "image/png": "[encoded data removed]"
          },
          "metadata": {}
        }
      ]
    },
    {
      "cell_type": "markdown",
      "source": [
        "---\n",
        "<center style=\"color:red\"><b>PENJELASAN</b></center>\n",
        "\n",
        "---\n",
        "dalam kode di atas `df = df[(df[\"diameter\"]<16) & (df[\"diameter\"]>5)]` kita coba **menghilangkan outlier** yang telah kita temukan sebelumnya yaitu di atas angka 16 dan di bawah 5. `(df[\"diameter\"]<16)` itu maknanya *semua data yang mana umurnya di bawah 16*. `(df[\"diameter\"]>5)` itu maknanya *semua data yang mana umurnya di atas 5*. `df = ` artinya kita akan menimpa data yang lama (yang ada outliers) dengan yang baru yaitu `df[(df[\"diameter\"]<16) & (df[\"diameter\"]>5)]` yang sudah dihilangkan outliernya.\n",
        "\n",
        "---"
      ],
      "metadata": {
        "id": "PaPRIpw8021g"
      }
    },
    {
      "cell_type": "markdown",
      "source": [
        "## **DATA DUPLIKASI**"
      ],
      "metadata": {
        "id": "xZr7vFbleiGA"
      }
    },
    {
      "cell_type": "code",
      "source": [
        "df[df.duplicated()]"
      ],
      "metadata": {
        "colab": {
          "base_uri": "https://localhost:8080/",
          "height": 53
        },
        "id": "xt_JZJdl6H0a",
        "outputId": "c3743250-daa4-4b47-8f8d-7bac2cdc6a71"
      },
      "execution_count": null,
      "outputs": [
        {
          "output_type": "execute_result",
          "data": {
            "text/plain": [
              "Empty DataFrame\n",
              "Columns: [name, diameter, weight, red, green, blue]\n",
              "Index: []"
            ],
            "text/html": [
              "\n",
              "  <div id=\"df-85f6d36e-f788-4736-9ae0-143eed549cbd\" class=\"colab-df-container\">\n",
              "    <div>\n",
              "<style scoped>\n",
              "    .dataframe tbody tr th:only-of-type {\n",
              "        vertical-align: middle;\n",
              "    }\n",
              "\n",
              "    .dataframe tbody tr th {\n",
              "        vertical-align: top;\n",
              "    }\n",
              "\n",
              "    .dataframe thead th {\n",
              "        text-align: right;\n",
              "    }\n",
              "</style>\n",
              "<table border=\"1\" class=\"dataframe\">\n",
              "  <thead>\n",
              "    <tr style=\"text-align: right;\">\n",
              "      <th></th>\n",
              "      <th>name</th>\n",
              "      <th>diameter</th>\n",
              "      <th>weight</th>\n",
              "      <th>red</th>\n",
              "      <th>green</th>\n",
              "      <th>blue</th>\n",
              "    </tr>\n",
              "  </thead>\n",
              "  <tbody>\n",
              "  </tbody>\n",
              "</table>\n",
              "</div>\n",
              "    <div class=\"colab-df-buttons\">\n",
              "\n",
              "  <div class=\"colab-df-container\">\n",
              "    <button class=\"colab-df-convert\" onclick=\"convertToInteractive('df-85f6d36e-f788-4736-9ae0-143eed549cbd')\"\n",
              "            title=\"Convert this dataframe to an interactive table.\"\n",
              "            style=\"display:none;\">\n",
              "\n",
              "  <svg xmlns=\"http://www.w3.org/2000/svg\" height=\"24px\" viewBox=\"0 -960 960 960\">\n",
              "    <path d=\"M120-120v-720h720v720H120Zm60-500h600v-160H180v160Zm220 220h160v-160H400v160Zm0 220h160v-160H400v160ZM180-400h160v-160H180v160Zm440 0h160v-160H620v160ZM180-180h160v-160H180v160Zm440 0h160v-160H620v160Z\"/>\n",
              "  </svg>\n",
              "    </button>\n",
              "\n",
              "  <style>\n",
              "    .colab-df-container {\n",
              "      display:flex;\n",
              "      gap: 12px;\n",
              "    }\n",
              "\n",
              "    .colab-df-convert {\n",
              "      background-color: #E8F0FE;\n",
              "      border: none;\n",
              "      border-radius: 50%;\n",
              "      cursor: pointer;\n",
              "      display: none;\n",
              "      fill: #1967D2;\n",
              "      height: 32px;\n",
              "      padding: 0 0 0 0;\n",
              "      width: 32px;\n",
              "    }\n",
              "\n",
              "    .colab-df-convert:hover {\n",
              "      background-color: #E2EBFA;\n",
              "      box-shadow: 0px 1px 2px rgba(60, 64, 67, 0.3), 0px 1px 3px 1px rgba(60, 64, 67, 0.15);\n",
              "      fill: #174EA6;\n",
              "    }\n",
              "\n",
              "    .colab-df-buttons div {\n",
              "      margin-bottom: 4px;\n",
              "    }\n",
              "\n",
              "    [theme=dark] .colab-df-convert {\n",
              "      background-color: #3B4455;\n",
              "      fill: #D2E3FC;\n",
              "    }\n",
              "\n",
              "    [theme=dark] .colab-df-convert:hover {\n",
              "      background-color: #434B5C;\n",
              "      box-shadow: 0px 1px 3px 1px rgba(0, 0, 0, 0.15);\n",
              "      filter: drop-shadow(0px 1px 2px rgba(0, 0, 0, 0.3));\n",
              "      fill: #FFFFFF;\n",
              "    }\n",
              "  </style>\n",
              "\n",
              "    <script>\n",
              "      const buttonEl =\n",
              "        document.querySelector('#df-85f6d36e-f788-4736-9ae0-143eed549cbd button.colab-df-convert');\n",
              "      buttonEl.style.display =\n",
              "        google.colab.kernel.accessAllowed ? 'block' : 'none';\n",
              "\n",
              "      async function convertToInteractive(key) {\n",
              "        const element = document.querySelector('#df-85f6d36e-f788-4736-9ae0-143eed549cbd');\n",
              "        const dataTable =\n",
              "          await google.colab.kernel.invokeFunction('convertToInteractive',\n",
              "                                                    [key], {});\n",
              "        if (!dataTable) return;\n",
              "\n",
              "        const docLinkHtml = 'Like what you see? Visit the ' +\n",
              "          '<a target=\"_blank\" href=https://colab.research.google.com/notebooks/data_table.ipynb>data table notebook</a>'\n",
              "          + ' to learn more about interactive tables.';\n",
              "        element.innerHTML = '';\n",
              "        dataTable['output_type'] = 'display_data';\n",
              "        await google.colab.output.renderOutput(dataTable, element);\n",
              "        const docLink = document.createElement('div');\n",
              "        docLink.innerHTML = docLinkHtml;\n",
              "        element.appendChild(docLink);\n",
              "      }\n",
              "    </script>\n",
              "  </div>\n",
              "\n",
              "\n",
              "    </div>\n",
              "  </div>\n"
            ],
            "application/vnd.google.colaboratory.intrinsic+json": {
              "type": "dataframe",
              "repr_error": "Out of range float values are not JSON compliant: nan"
            }
          },
          "metadata": {},
          "execution_count": 9
        }
      ]
    },
    {
      "cell_type": "markdown",
      "source": [
        "---\n",
        "<center style=\"color:red\"><b>PENJELASAN</b></center>\n",
        "\n",
        "---\n",
        "dalam kode di atas `df[df.duplicated()]` kita mencoba melihat apakah **ada data yang terduplikasi atau tidak**. Dari hasil tersebut, kita dapat melihat kalau **tidak ada data yang terduplikasi**. Maka kita bisa langsung pada tahapan selanjutnya. Jika ada duplikasi maka kita bisa gunakan kode `df.drop_duplicates(inplace=True)` untuk menghilangkan duplikasi\n",
        "\n",
        "---"
      ],
      "metadata": {
        "id": "_Rd6WUCk1ST_"
      }
    },
    {
      "cell_type": "markdown",
      "source": [
        "<center><h2><b>DATA KOSONG</b></h2></center>"
      ],
      "metadata": {
        "id": "meWstqpeemeN"
      }
    },
    {
      "cell_type": "code",
      "source": [
        "df.isna().sum()"
      ],
      "metadata": {
        "colab": {
          "base_uri": "https://localhost:8080/",
          "height": 272
        },
        "id": "Qm-dfjXM6q-K",
        "outputId": "d649b3e1-2318-4dc4-ef9e-79227a0509e4"
      },
      "execution_count": null,
      "outputs": [
        {
          "output_type": "execute_result",
          "data": {
            "text/plain": [
              "name        0\n",
              "diameter    0\n",
              "weight      0\n",
              "red         0\n",
              "green       0\n",
              "blue        0\n",
              "dtype: int64"
            ],
            "text/html": [
              "<div>\n",
              "<style scoped>\n",
              "    .dataframe tbody tr th:only-of-type {\n",
              "        vertical-align: middle;\n",
              "    }\n",
              "\n",
              "    .dataframe tbody tr th {\n",
              "        vertical-align: top;\n",
              "    }\n",
              "\n",
              "    .dataframe thead th {\n",
              "        text-align: right;\n",
              "    }\n",
              "</style>\n",
              "<table border=\"1\" class=\"dataframe\">\n",
              "  <thead>\n",
              "    <tr style=\"text-align: right;\">\n",
              "      <th></th>\n",
              "      <th>0</th>\n",
              "    </tr>\n",
              "  </thead>\n",
              "  <tbody>\n",
              "    <tr>\n",
              "      <th>name</th>\n",
              "      <td>0</td>\n",
              "    </tr>\n",
              "    <tr>\n",
              "      <th>diameter</th>\n",
              "      <td>0</td>\n",
              "    </tr>\n",
              "    <tr>\n",
              "      <th>weight</th>\n",
              "      <td>0</td>\n",
              "    </tr>\n",
              "    <tr>\n",
              "      <th>red</th>\n",
              "      <td>0</td>\n",
              "    </tr>\n",
              "    <tr>\n",
              "      <th>green</th>\n",
              "      <td>0</td>\n",
              "    </tr>\n",
              "    <tr>\n",
              "      <th>blue</th>\n",
              "      <td>0</td>\n",
              "    </tr>\n",
              "  </tbody>\n",
              "</table>\n",
              "</div><br><label><b>dtype:</b> int64</label>"
            ]
          },
          "metadata": {},
          "execution_count": 10
        }
      ]
    },
    {
      "cell_type": "markdown",
      "source": [
        "---\n",
        "<center style=\"color:red\"><b>PENJELASAN</b></center>\n",
        "\n",
        "---\n",
        "dalam kode di atas `df.isna().sum()` kita akan melihat dari data tersebut apakah `ada data kosong atau tidak`. Dari hasil diatas tidak terdapat data yang kosong. Maka kita bisa lanjut ke tahapan selanjutnya. `df.isna()` artinya kita akan melihat untuk apakah suatu data itu kosong atau tidak. `.sum()` digunakan untuk menghitung berapa banyak data untuk setiap kolom yang hilang.\n",
        "\n",
        "---"
      ],
      "metadata": {
        "id": "FL-G307C82Ej"
      }
    },
    {
      "cell_type": "markdown",
      "source": [
        "---\n",
        "<center style=\"color:red\"><b>CARA MENANGANI DATA KOSONG</b></center>\n",
        "\n",
        "---\n",
        "terdapat berbagai cara untuk menangani data kosong.\n",
        "1. bisa mencari nilai mean dari kolomnya (biasanya untuk bilangan kontinue / float)\n",
        "2. bisa mencari nilai modus dari kolomnya (biasanya untuk  kategorikal / bil. diskrit / int )\n",
        "3. bisa menghapusnya (jika datanya itu banyak, dan yang kosong itu sedikit)\n",
        "\n",
        "---"
      ],
      "metadata": {
        "id": "3dAnnXffCNDi"
      }
    },
    {
      "cell_type": "markdown",
      "source": [
        "# **MODELING**"
      ],
      "metadata": {
        "id": "2ZVSzhUbiOu-"
      }
    },
    {
      "cell_type": "markdown",
      "source": [
        "pada tahapan ini kita akan melakukan training model dan evaluasi"
      ],
      "metadata": {
        "id": "nIUETl6CiWPq"
      }
    },
    {
      "cell_type": "markdown",
      "source": [
        "## **IMPORT LIBRARY**"
      ],
      "metadata": {
        "id": "qrOZ4JYjiaug"
      }
    },
    {
      "cell_type": "code",
      "source": [
        "from sklearn.model_selection import train_test_split\n",
        "from sklearn.metrics import classification_report\n",
        "\n",
        "from sklearn.neighbors import KNeighborsClassifier\n",
        "from sklearn.tree import DecisionTreeClassifier\n",
        "from sklearn.ensemble import RandomForestClassifier\n",
        "from sklearn.linear_model import LogisticRegression\n",
        "from sklearn.svm import SVC\n"
      ],
      "metadata": {
        "colab": {
          "base_uri": "https://localhost:8080/",
          "height": 424
        },
        "id": "igAgjoqdi1Tj",
        "outputId": "fedcd5f0-8426-4894-81ce-244212cfc610"
      },
      "execution_count": null,
      "outputs": [
        {
          "output_type": "execute_result",
          "data": {
            "text/plain": [
              "      diameter  weight  red  green  blue\n",
              "2962      8.77  157.10  160     87     9\n",
              "7810     11.65  200.46  135     72     2\n",
              "1317      7.71  140.89  146     73    12\n",
              "2607      8.55  153.45  164     75     2\n",
              "3546      9.15  163.10  166     74    11\n",
              "...        ...     ...  ...    ...   ...\n",
              "5753     10.19  177.28  155     71     2\n",
              "5210      9.36  163.58  152     70    27\n",
              "5409      9.74  170.57  167     72    25\n",
              "879       7.31  135.40  165     77     4\n",
              "7289     11.31  195.40  145     53     5\n",
              "\n",
              "[7984 rows x 5 columns]"
            ],
            "text/html": [
              "\n",
              "  <div id=\"df-b6ceb884-2207-4d4b-af2a-b6f7b2e780d1\" class=\"colab-df-container\">\n",
              "    <div>\n",
              "<style scoped>\n",
              "    .dataframe tbody tr th:only-of-type {\n",
              "        vertical-align: middle;\n",
              "    }\n",
              "\n",
              "    .dataframe tbody tr th {\n",
              "        vertical-align: top;\n",
              "    }\n",
              "\n",
              "    .dataframe thead th {\n",
              "        text-align: right;\n",
              "    }\n",
              "</style>\n",
              "<table border=\"1\" class=\"dataframe\">\n",
              "  <thead>\n",
              "    <tr style=\"text-align: right;\">\n",
              "      <th></th>\n",
              "      <th>diameter</th>\n",
              "      <th>weight</th>\n",
              "      <th>red</th>\n",
              "      <th>green</th>\n",
              "      <th>blue</th>\n",
              "    </tr>\n",
              "  </thead>\n",
              "  <tbody>\n",
              "    <tr>\n",
              "      <th>2962</th>\n",
              "      <td>8.77</td>\n",
              "      <td>157.10</td>\n",
              "      <td>160</td>\n",
              "      <td>87</td>\n",
              "      <td>9</td>\n",
              "    </tr>\n",
              "    <tr>\n",
              "      <th>7810</th>\n",
              "      <td>11.65</td>\n",
              "      <td>200.46</td>\n",
              "      <td>135</td>\n",
              "      <td>72</td>\n",
              "      <td>2</td>\n",
              "    </tr>\n",
              "    <tr>\n",
              "      <th>1317</th>\n",
              "      <td>7.71</td>\n",
              "      <td>140.89</td>\n",
              "      <td>146</td>\n",
              "      <td>73</td>\n",
              "      <td>12</td>\n",
              "    </tr>\n",
              "    <tr>\n",
              "      <th>2607</th>\n",
              "      <td>8.55</td>\n",
              "      <td>153.45</td>\n",
              "      <td>164</td>\n",
              "      <td>75</td>\n",
              "      <td>2</td>\n",
              "    </tr>\n",
              "    <tr>\n",
              "      <th>3546</th>\n",
              "      <td>9.15</td>\n",
              "      <td>163.10</td>\n",
              "      <td>166</td>\n",
              "      <td>74</td>\n",
              "      <td>11</td>\n",
              "    </tr>\n",
              "    <tr>\n",
              "      <th>...</th>\n",
              "      <td>...</td>\n",
              "      <td>...</td>\n",
              "      <td>...</td>\n",
              "      <td>...</td>\n",
              "      <td>...</td>\n",
              "    </tr>\n",
              "    <tr>\n",
              "      <th>5753</th>\n",
              "      <td>10.19</td>\n",
              "      <td>177.28</td>\n",
              "      <td>155</td>\n",
              "      <td>71</td>\n",
              "      <td>2</td>\n",
              "    </tr>\n",
              "    <tr>\n",
              "      <th>5210</th>\n",
              "      <td>9.36</td>\n",
              "      <td>163.58</td>\n",
              "      <td>152</td>\n",
              "      <td>70</td>\n",
              "      <td>27</td>\n",
              "    </tr>\n",
              "    <tr>\n",
              "      <th>5409</th>\n",
              "      <td>9.74</td>\n",
              "      <td>170.57</td>\n",
              "      <td>167</td>\n",
              "      <td>72</td>\n",
              "      <td>25</td>\n",
              "    </tr>\n",
              "    <tr>\n",
              "      <th>879</th>\n",
              "      <td>7.31</td>\n",
              "      <td>135.40</td>\n",
              "      <td>165</td>\n",
              "      <td>77</td>\n",
              "      <td>4</td>\n",
              "    </tr>\n",
              "    <tr>\n",
              "      <th>7289</th>\n",
              "      <td>11.31</td>\n",
              "      <td>195.40</td>\n",
              "      <td>145</td>\n",
              "      <td>53</td>\n",
              "      <td>5</td>\n",
              "    </tr>\n",
              "  </tbody>\n",
              "</table>\n",
              "<p>7984 rows × 5 columns</p>\n",
              "</div>\n",
              "    <div class=\"colab-df-buttons\">\n",
              "\n",
              "  <div class=\"colab-df-container\">\n",
              "    <button class=\"colab-df-convert\" onclick=\"convertToInteractive('df-b6ceb884-2207-4d4b-af2a-b6f7b2e780d1')\"\n",
              "            title=\"Convert this dataframe to an interactive table.\"\n",
              "            style=\"display:none;\">\n",
              "\n",
              "  <svg xmlns=\"http://www.w3.org/2000/svg\" height=\"24px\" viewBox=\"0 -960 960 960\">\n",
              "    <path d=\"M120-120v-720h720v720H120Zm60-500h600v-160H180v160Zm220 220h160v-160H400v160Zm0 220h160v-160H400v160ZM180-400h160v-160H180v160Zm440 0h160v-160H620v160ZM180-180h160v-160H180v160Zm440 0h160v-160H620v160Z\"/>\n",
              "  </svg>\n",
              "    </button>\n",
              "\n",
              "  <style>\n",
              "    .colab-df-container {\n",
              "      display:flex;\n",
              "      gap: 12px;\n",
              "    }\n",
              "\n",
              "    .colab-df-convert {\n",
              "      background-color: #E8F0FE;\n",
              "      border: none;\n",
              "      border-radius: 50%;\n",
              "      cursor: pointer;\n",
              "      display: none;\n",
              "      fill: #1967D2;\n",
              "      height: 32px;\n",
              "      padding: 0 0 0 0;\n",
              "      width: 32px;\n",
              "    }\n",
              "\n",
              "    .colab-df-convert:hover {\n",
              "      background-color: #E2EBFA;\n",
              "      box-shadow: 0px 1px 2px rgba(60, 64, 67, 0.3), 0px 1px 3px 1px rgba(60, 64, 67, 0.15);\n",
              "      fill: #174EA6;\n",
              "    }\n",
              "\n",
              "    .colab-df-buttons div {\n",
              "      margin-bottom: 4px;\n",
              "    }\n",
              "\n",
              "    [theme=dark] .colab-df-convert {\n",
              "      background-color: #3B4455;\n",
              "      fill: #D2E3FC;\n",
              "    }\n",
              "\n",
              "    [theme=dark] .colab-df-convert:hover {\n",
              "      background-color: #434B5C;\n",
              "      box-shadow: 0px 1px 3px 1px rgba(0, 0, 0, 0.15);\n",
              "      filter: drop-shadow(0px 1px 2px rgba(0, 0, 0, 0.3));\n",
              "      fill: #FFFFFF;\n",
              "    }\n",
              "  </style>\n",
              "\n",
              "    <script>\n",
              "      const buttonEl =\n",
              "        document.querySelector('#df-b6ceb884-2207-4d4b-af2a-b6f7b2e780d1 button.colab-df-convert');\n",
              "      buttonEl.style.display =\n",
              "        google.colab.kernel.accessAllowed ? 'block' : 'none';\n",
              "\n",
              "      async function convertToInteractive(key) {\n",
              "        const element = document.querySelector('#df-b6ceb884-2207-4d4b-af2a-b6f7b2e780d1');\n",
              "        const dataTable =\n",
              "          await google.colab.kernel.invokeFunction('convertToInteractive',\n",
              "                                                    [key], {});\n",
              "        if (!dataTable) return;\n",
              "\n",
              "        const docLinkHtml = 'Like what you see? Visit the ' +\n",
              "          '<a target=\"_blank\" href=https://colab.research.google.com/notebooks/data_table.ipynb>data table notebook</a>'\n",
              "          + ' to learn more about interactive tables.';\n",
              "        element.innerHTML = '';\n",
              "        dataTable['output_type'] = 'display_data';\n",
              "        await google.colab.output.renderOutput(dataTable, element);\n",
              "        const docLink = document.createElement('div');\n",
              "        docLink.innerHTML = docLinkHtml;\n",
              "        element.appendChild(docLink);\n",
              "      }\n",
              "    </script>\n",
              "  </div>\n",
              "\n",
              "\n",
              "<div id=\"df-1ccbf216-20f6-4992-8bdb-3fe26f8e11d8\">\n",
              "  <button class=\"colab-df-quickchart\" onclick=\"quickchart('df-1ccbf216-20f6-4992-8bdb-3fe26f8e11d8')\"\n",
              "            title=\"Suggest charts\"\n",
              "            style=\"display:none;\">\n",
              "\n",
              "<svg xmlns=\"http://www.w3.org/2000/svg\" height=\"24px\"viewBox=\"0 0 24 24\"\n",
              "     width=\"24px\">\n",
              "    <g>\n",
              "        <path d=\"M19 3H5c-1.1 0-2 .9-2 2v14c0 1.1.9 2 2 2h14c1.1 0 2-.9 2-2V5c0-1.1-.9-2-2-2zM9 17H7v-7h2v7zm4 0h-2V7h2v10zm4 0h-2v-4h2v4z\"/>\n",
              "    </g>\n",
              "</svg>\n",
              "  </button>\n",
              "\n",
              "<style>\n",
              "  .colab-df-quickchart {\n",
              "      --bg-color: #E8F0FE;\n",
              "      --fill-color: #1967D2;\n",
              "      --hover-bg-color: #E2EBFA;\n",
              "      --hover-fill-color: #174EA6;\n",
              "      --disabled-fill-color: #AAA;\n",
              "      --disabled-bg-color: #DDD;\n",
              "  }\n",
              "\n",
              "  [theme=dark] .colab-df-quickchart {\n",
              "      --bg-color: #3B4455;\n",
              "      --fill-color: #D2E3FC;\n",
              "      --hover-bg-color: #434B5C;\n",
              "      --hover-fill-color: #FFFFFF;\n",
              "      --disabled-bg-color: #3B4455;\n",
              "      --disabled-fill-color: #666;\n",
              "  }\n",
              "\n",
              "  .colab-df-quickchart {\n",
              "    background-color: var(--bg-color);\n",
              "    border: none;\n",
              "    border-radius: 50%;\n",
              "    cursor: pointer;\n",
              "    display: none;\n",
              "    fill: var(--fill-color);\n",
              "    height: 32px;\n",
              "    padding: 0;\n",
              "    width: 32px;\n",
              "  }\n",
              "\n",
              "  .colab-df-quickchart:hover {\n",
              "    background-color: var(--hover-bg-color);\n",
              "    box-shadow: 0 1px 2px rgba(60, 64, 67, 0.3), 0 1px 3px 1px rgba(60, 64, 67, 0.15);\n",
              "    fill: var(--button-hover-fill-color);\n",
              "  }\n",
              "\n",
              "  .colab-df-quickchart-complete:disabled,\n",
              "  .colab-df-quickchart-complete:disabled:hover {\n",
              "    background-color: var(--disabled-bg-color);\n",
              "    fill: var(--disabled-fill-color);\n",
              "    box-shadow: none;\n",
              "  }\n",
              "\n",
              "  .colab-df-spinner {\n",
              "    border: 2px solid var(--fill-color);\n",
              "    border-color: transparent;\n",
              "    border-bottom-color: var(--fill-color);\n",
              "    animation:\n",
              "      spin 1s steps(1) infinite;\n",
              "  }\n",
              "\n",
              "  @keyframes spin {\n",
              "    0% {\n",
              "      border-color: transparent;\n",
              "      border-bottom-color: var(--fill-color);\n",
              "      border-left-color: var(--fill-color);\n",
              "    }\n",
              "    20% {\n",
              "      border-color: transparent;\n",
              "      border-left-color: var(--fill-color);\n",
              "      border-top-color: var(--fill-color);\n",
              "    }\n",
              "    30% {\n",
              "      border-color: transparent;\n",
              "      border-left-color: var(--fill-color);\n",
              "      border-top-color: var(--fill-color);\n",
              "      border-right-color: var(--fill-color);\n",
              "    }\n",
              "    40% {\n",
              "      border-color: transparent;\n",
              "      border-right-color: var(--fill-color);\n",
              "      border-top-color: var(--fill-color);\n",
              "    }\n",
              "    60% {\n",
              "      border-color: transparent;\n",
              "      border-right-color: var(--fill-color);\n",
              "    }\n",
              "    80% {\n",
              "      border-color: transparent;\n",
              "      border-right-color: var(--fill-color);\n",
              "      border-bottom-color: var(--fill-color);\n",
              "    }\n",
              "    90% {\n",
              "      border-color: transparent;\n",
              "      border-bottom-color: var(--fill-color);\n",
              "    }\n",
              "  }\n",
              "</style>\n",
              "\n",
              "  <script>\n",
              "    async function quickchart(key) {\n",
              "      const quickchartButtonEl =\n",
              "        document.querySelector('#' + key + ' button');\n",
              "      quickchartButtonEl.disabled = true;  // To prevent multiple clicks.\n",
              "      quickchartButtonEl.classList.add('colab-df-spinner');\n",
              "      try {\n",
              "        const charts = await google.colab.kernel.invokeFunction(\n",
              "            'suggestCharts', [key], {});\n",
              "      } catch (error) {\n",
              "        console.error('Error during call to suggestCharts:', error);\n",
              "      }\n",
              "      quickchartButtonEl.classList.remove('colab-df-spinner');\n",
              "      quickchartButtonEl.classList.add('colab-df-quickchart-complete');\n",
              "    }\n",
              "    (() => {\n",
              "      let quickchartButtonEl =\n",
              "        document.querySelector('#df-1ccbf216-20f6-4992-8bdb-3fe26f8e11d8 button');\n",
              "      quickchartButtonEl.style.display =\n",
              "        google.colab.kernel.accessAllowed ? 'block' : 'none';\n",
              "    })();\n",
              "  </script>\n",
              "</div>\n",
              "\n",
              "  <div id=\"id_76cf21e8-2b8a-48d4-b27d-ba17df228f3f\">\n",
              "    <style>\n",
              "      .colab-df-generate {\n",
              "        background-color: #E8F0FE;\n",
              "        border: none;\n",
              "        border-radius: 50%;\n",
              "        cursor: pointer;\n",
              "        display: none;\n",
              "        fill: #1967D2;\n",
              "        height: 32px;\n",
              "        padding: 0 0 0 0;\n",
              "        width: 32px;\n",
              "      }\n",
              "\n",
              "      .colab-df-generate:hover {\n",
              "        background-color: #E2EBFA;\n",
              "        box-shadow: 0px 1px 2px rgba(60, 64, 67, 0.3), 0px 1px 3px 1px rgba(60, 64, 67, 0.15);\n",
              "        fill: #174EA6;\n",
              "      }\n",
              "\n",
              "      [theme=dark] .colab-df-generate {\n",
              "        background-color: #3B4455;\n",
              "        fill: #D2E3FC;\n",
              "      }\n",
              "\n",
              "      [theme=dark] .colab-df-generate:hover {\n",
              "        background-color: #434B5C;\n",
              "        box-shadow: 0px 1px 3px 1px rgba(0, 0, 0, 0.15);\n",
              "        filter: drop-shadow(0px 1px 2px rgba(0, 0, 0, 0.3));\n",
              "        fill: #FFFFFF;\n",
              "      }\n",
              "    </style>\n",
              "    <button class=\"colab-df-generate\" onclick=\"generateWithVariable('X_train')\"\n",
              "            title=\"Generate code using this dataframe.\"\n",
              "            style=\"display:none;\">\n",
              "\n",
              "  <svg xmlns=\"http://www.w3.org/2000/svg\" height=\"24px\"viewBox=\"0 0 24 24\"\n",
              "       width=\"24px\">\n",
              "    <path d=\"M7,19H8.4L18.45,9,17,7.55,7,17.6ZM5,21V16.75L18.45,3.32a2,2,0,0,1,2.83,0l1.4,1.43a1.91,1.91,0,0,1,.58,1.4,1.91,1.91,0,0,1-.58,1.4L9.25,21ZM18.45,9,17,7.55Zm-12,3A5.31,5.31,0,0,0,4.9,8.1,5.31,5.31,0,0,0,1,6.5,5.31,5.31,0,0,0,4.9,4.9,5.31,5.31,0,0,0,6.5,1,5.31,5.31,0,0,0,8.1,4.9,5.31,5.31,0,0,0,12,6.5,5.46,5.46,0,0,0,6.5,12Z\"/>\n",
              "  </svg>\n",
              "    </button>\n",
              "    <script>\n",
              "      (() => {\n",
              "      const buttonEl =\n",
              "        document.querySelector('#id_76cf21e8-2b8a-48d4-b27d-ba17df228f3f button.colab-df-generate');\n",
              "      buttonEl.style.display =\n",
              "        google.colab.kernel.accessAllowed ? 'block' : 'none';\n",
              "\n",
              "      buttonEl.onclick = () => {\n",
              "        google.colab.notebook.generateWithVariable('X_train');\n",
              "      }\n",
              "      })();\n",
              "    </script>\n",
              "  </div>\n",
              "\n",
              "    </div>\n",
              "  </div>\n"
            ],
            "application/vnd.google.colaboratory.intrinsic+json": {
              "type": "dataframe",
              "variable_name": "X_train",
              "summary": "{\n  \"name\": \"X_train\",\n  \"rows\": 7984,\n  \"fields\": [\n    {\n      \"column\": \"diameter\",\n      \"properties\": {\n        \"dtype\": \"number\",\n        \"std\": 1.9293583698955072,\n        \"min\": 5.02,\n        \"max\": 15.92,\n        \"num_unique_values\": 892,\n        \"samples\": [\n          13.88,\n          7.32,\n          8.88\n        ],\n        \"semantic_type\": \"\",\n        \"description\": \"\"\n      }\n    },\n    {\n      \"column\": \"weight\",\n      \"properties\": {\n        \"dtype\": \"number\",\n        \"std\": 28.97004792620925,\n        \"min\": 104.19,\n        \"max\": 260.14,\n        \"num_unique_values\": 5654,\n        \"samples\": [\n          214.44,\n          114.17,\n          209.75\n        ],\n        \"semantic_type\": \"\",\n        \"description\": \"\"\n      }\n    },\n    {\n      \"column\": \"red\",\n      \"properties\": {\n        \"dtype\": \"number\",\n        \"std\": 10,\n        \"min\": 115,\n        \"max\": 192,\n        \"num_unique_values\": 74,\n        \"samples\": [\n          166,\n          184,\n          155\n        ],\n        \"semantic_type\": \"\",\n        \"description\": \"\"\n      }\n    },\n    {\n      \"column\": \"green\",\n      \"properties\": {\n        \"dtype\": \"number\",\n        \"std\": 11,\n        \"min\": 31,\n        \"max\": 116,\n        \"num_unique_values\": 78,\n        \"samples\": [\n          60,\n          87,\n          76\n        ],\n        \"semantic_type\": \"\",\n        \"description\": \"\"\n      }\n    },\n    {\n      \"column\": \"blue\",\n      \"properties\": {\n        \"dtype\": \"number\",\n        \"std\": 9,\n        \"min\": 2,\n        \"max\": 48,\n        \"num_unique_values\": 47,\n        \"samples\": [\n          29,\n          35,\n          17\n        ],\n        \"semantic_type\": \"\",\n        \"description\": \"\"\n      }\n    }\n  ]\n}"
            }
          },
          "metadata": {},
          "execution_count": 11
        }
      ]
    },
    {
      "cell_type": "markdown",
      "source": [
        "---\n",
        "<center style=\"color:red\"><b>PENJELASAN</b></center>\n",
        "\n",
        "---\n",
        "fungsi dari library\n",
        "- train_test_split -> untuk memisahkan *data train* dan *data test*\n",
        "- classification_report -> untuk melihat dari hasil evaluasi model\n",
        "- KNeighborsClassifier -> untuk mengakses model *knn* yang sudah pernah dibuat\n",
        "- DecisionTreeClassifier -> untuk mengakses model *decision tree* yang sudah pernah dibuat\n",
        "- RandomForestClassifier -> untuk mengakses model *random forest* yang sudah pernah dibuat\n",
        "- LogisticRegression -> untuk mengakses model *logistic regression* yang sudah pernah dibuat\n",
        "- SVC -> untuk mengakses model *svm* yang sudah pernah dibuat\n",
        "\n",
        "---"
      ],
      "metadata": {
        "id": "t0OK-ZXekyfk"
      }
    },
    {
      "cell_type": "markdown",
      "source": [
        "## **DATA SPLIT**"
      ],
      "metadata": {
        "id": "vAadWzn_lt_2"
      }
    },
    {
      "cell_type": "code",
      "source": [
        "X = df.drop(columns=\"name\")\n",
        "y = df.name\n",
        "\n",
        "X_train, X_test, y_train, y_test = train_test_split(X, y, test_size=0.2, random_state=42)\n",
        "\n",
        "X_train"
      ],
      "metadata": {
        "id": "kO8MUb06lw_T"
      },
      "execution_count": null,
      "outputs": []
    },
    {
      "cell_type": "markdown",
      "source": [
        "---\n",
        "<center style=\"color:red\"><b>PENJELASAN</b></center>\n",
        "\n",
        "---\n",
        "dalam kode ini `X = df.drop(columns=\"name\")` dimana kita telah menentukan *data x (data input)* dengan mengambil seluruh data kecuali *labelnya (data output)*. Lalu untuk kode `y = df.name` kita mengambil data labelnya saja / *data output*. Untuk kode ini `X_train, X_test, y_train, y_test = train_test_split(X, y, test_size=0.2, random_state=42)` kita memisahkan antara *data train* dan *data test*. Data yang sudah di split / dipisahkan inilah akan digunakan untuk training dan evaluation.\n",
        "\n",
        "---"
      ],
      "metadata": {
        "id": "j9TCOFFSmIOL"
      }
    },
    {
      "cell_type": "markdown",
      "source": [
        "## **MODEL TRAINING AND EVALUATION**"
      ],
      "metadata": {
        "id": "HMBizpaAlz-s"
      }
    },
    {
      "cell_type": "code",
      "source": [
        "knn = KNeighborsClassifier()\n",
        "knn.fit(X_train, y_train)\n",
        "\n",
        "y_pred = knn.predict(X_test)\n",
        "\n",
        "print(classification_report(y_test, y_pred))"
      ],
      "metadata": {
        "colab": {
          "base_uri": "https://localhost:8080/"
        },
        "id": "Oygs_o8UjpP7",
        "outputId": "809d18ac-bebd-4a52-9cd1-f11630e9a6cb"
      },
      "execution_count": null,
      "outputs": [
        {
          "output_type": "stream",
          "name": "stdout",
          "text": [
            "              precision    recall  f1-score   support\n",
            "\n",
            "  grapefruit       0.92      0.91      0.91       998\n",
            "      orange       0.91      0.92      0.91       998\n",
            "\n",
            "    accuracy                           0.91      1996\n",
            "   macro avg       0.91      0.91      0.91      1996\n",
            "weighted avg       0.91      0.91      0.91      1996\n",
            "\n"
          ]
        }
      ]
    },
    {
      "cell_type": "markdown",
      "source": [
        "---\n",
        "<center style=\"color:red\"><b>PENJELASAN</b></center>\n",
        "\n",
        "---\n",
        "dalam kode ini `knn = KNeighborsClassifier()` dimana kita telah akan menaruh akses knn di variable knn. Untuk kode `knn.fit(X_train, y_train)` bertujuan untuk melatih modelnya dengan data latih / data train yang sudah kita split sebelumnya. Lalu untuk kode `y_pred = knn.predict(X_test)` dimana kita ingin mengambil data yang diprediksi model kita dengan menggunakan data test. Tujuannya adalah untuk mengetahui performa dari model kita. Lalu untuk kode `print(classification_report(y_test, y_pred))` bertujuan untuk menampilkan hasil performa dari model yang dilatih dengan menggunakan algoritma knn.\n",
        "\n",
        "---"
      ],
      "metadata": {
        "id": "WLSnXH4Pm7C8"
      }
    },
    {
      "cell_type": "markdown",
      "source": [
        "---\n",
        "<center style=\"color:red\"><b>HASIL PERFORMA</b></center>\n",
        "\n",
        "---\n",
        "Terlihat jika model dilatih dengan menggunakan algoritma knn akan menghasilkan akurasi 91%. Terlihat cukup besar, tetapi kita perlu melihat model yang lain, guna untuk mendapatkan hasil akurasi terbaik.\n",
        "\n",
        "---"
      ],
      "metadata": {
        "id": "GXO8EhOZoCA1"
      }
    },
    {
      "cell_type": "code",
      "source": [
        "decision_tree = DecisionTreeClassifier()\n",
        "decision_tree.fit(X_train, y_train)\n",
        "\n",
        "y_pred = decision_tree.predict(X_test)\n",
        "\n",
        "print(classification_report(y_test, y_pred))"
      ],
      "metadata": {
        "colab": {
          "base_uri": "https://localhost:8080/"
        },
        "id": "QjTCioF5kVVi",
        "outputId": "c0c11042-65be-4408-fff4-12b1f147b440"
      },
      "execution_count": null,
      "outputs": [
        {
          "output_type": "stream",
          "name": "stdout",
          "text": [
            "              precision    recall  f1-score   support\n",
            "\n",
            "  grapefruit       0.94      0.94      0.94       998\n",
            "      orange       0.94      0.94      0.94       998\n",
            "\n",
            "    accuracy                           0.94      1996\n",
            "   macro avg       0.94      0.94      0.94      1996\n",
            "weighted avg       0.94      0.94      0.94      1996\n",
            "\n"
          ]
        }
      ]
    },
    {
      "cell_type": "markdown",
      "source": [
        "---\n",
        "<center style=\"color:red\"><b>PENJELASAN</b></center>\n",
        "\n",
        "---\n",
        "dalam kode ini `decision_tree = DecisionTreeClassifier()` dimana kita telah akan menaruh akses decision tree di variable decision_tree. Untuk kode `decision_tree.fit(X_train, y_train)` bertujuan untuk melatih modelnya dengan data latih / data train yang sudah kita split sebelumnya. Lalu untuk kode `y_pred = decision_tree.predict(X_test)` dimana kita ingin mengambil data yang diprediksi model kita dengan menggunakan data test. Tujuannya adalah untuk mengetahui performa dari model kita. Lalu untuk kode `print(classification_report(y_test, y_pred))` bertujuan untuk menampilkan hasil performa dari model yang dilatih dengan menggunakan algoritma decision tree.\n",
        "\n",
        "---"
      ],
      "metadata": {
        "id": "tuZWE-_2ojFl"
      }
    },
    {
      "cell_type": "markdown",
      "source": [
        "---\n",
        "<center style=\"color:red\"><b>HASIL PERFORMA</b></center>\n",
        "\n",
        "---\n",
        "Terlihat jika model dilatih dengan menggunakan algoritma decision tree akan menghasilkan akurasi 94%. Terlihat lebih besar dari akurasi dengan knn, tetapi kita perlu melihat model yang lain, guna untuk mendapatkan hasil akurasi terbaik.\n",
        "\n",
        "---"
      ],
      "metadata": {
        "id": "nDB3ddpvojFl"
      }
    },
    {
      "cell_type": "code",
      "source": [
        "random_forest = RandomForestClassifier()\n",
        "random_forest.fit(X_train, y_train)\n",
        "\n",
        "y_pred = random_forest.predict(X_test)\n",
        "\n",
        "print(classification_report(y_test, y_pred))"
      ],
      "metadata": {
        "colab": {
          "base_uri": "https://localhost:8080/"
        },
        "id": "G6SglUdSkdRn",
        "outputId": "9e51a015-0170-4a0d-f227-b3b685dbf359"
      },
      "execution_count": null,
      "outputs": [
        {
          "output_type": "stream",
          "name": "stdout",
          "text": [
            "              precision    recall  f1-score   support\n",
            "\n",
            "  grapefruit       0.95      0.97      0.96       998\n",
            "      orange       0.97      0.95      0.96       998\n",
            "\n",
            "    accuracy                           0.96      1996\n",
            "   macro avg       0.96      0.96      0.96      1996\n",
            "weighted avg       0.96      0.96      0.96      1996\n",
            "\n"
          ]
        }
      ]
    },
    {
      "cell_type": "markdown",
      "source": [
        "---\n",
        "<center style=\"color:red\"><b>PENJELASAN</b></center>\n",
        "\n",
        "---\n",
        "dalam kode ini `random_forest = RandomForestClassifier()` dimana kita telah akan menaruh akses random forest di variable random_forest. Untuk kode `random_forest.fit(X_train, y_train)` bertujuan untuk melatih modelnya dengan data latih / data train yang sudah kita split sebelumnya. Lalu untuk kode `y_pred = random_forest.predict(X_test)` dimana kita ingin mengambil data yang diprediksi model kita dengan menggunakan data test. Tujuannya adalah untuk mengetahui performa dari model kita. Lalu untuk kode `print(classification_report(y_test, y_pred))` bertujuan untuk menampilkan hasil performa dari model yang dilatih dengan menggunakan algoritma random forest.\n",
        "\n",
        "---"
      ],
      "metadata": {
        "id": "08NFfiruo7Mj"
      }
    },
    {
      "cell_type": "markdown",
      "source": [
        "---\n",
        "<center style=\"color:red\"><b>HASIL PERFORMA</b></center>\n",
        "\n",
        "---\n",
        "Terlihat jika model dilatih dengan menggunakan algoritma random forest akan menghasilkan akurasi 96%. Terlihat akurasinya paling besar dari sebelumnya, tetapi kita perlu melihat model yang lain, guna untuk mendapatkan hasil akurasi terbaik.\n",
        "\n",
        "---"
      ],
      "metadata": {
        "id": "7HECEoWzo7Mk"
      }
    },
    {
      "cell_type": "code",
      "source": [
        "logistic_regression = LogisticRegression()\n",
        "logistic_regression.fit(X_train, y_train)\n",
        "\n",
        "y_pred = logistic_regression.predict(X_test)\n",
        "\n",
        "print(classification_report(y_test, y_pred))"
      ],
      "metadata": {
        "colab": {
          "base_uri": "https://localhost:8080/"
        },
        "id": "EuN5ebWKkkjm",
        "outputId": "c9c19a90-a06e-499c-fd58-06d74ffb4e0f"
      },
      "execution_count": null,
      "outputs": [
        {
          "output_type": "stream",
          "name": "stdout",
          "text": [
            "              precision    recall  f1-score   support\n",
            "\n",
            "  grapefruit       0.94      0.96      0.95       998\n",
            "      orange       0.96      0.93      0.95       998\n",
            "\n",
            "    accuracy                           0.95      1996\n",
            "   macro avg       0.95      0.95      0.95      1996\n",
            "weighted avg       0.95      0.95      0.95      1996\n",
            "\n"
          ]
        }
      ]
    },
    {
      "cell_type": "markdown",
      "source": [
        "---\n",
        "<center style=\"color:red\"><b>PENJELASAN</b></center>\n",
        "\n",
        "---\n",
        "dalam kode ini `logistic_regression = LogisticRegression()` dimana kita telah akan menaruh akses logistic regression di variable logistic_regression. Untuk kode `logistic_regression.fit(X_train, y_train)` bertujuan untuk melatih modelnya dengan data latih / data train yang sudah kita split sebelumnya. Lalu untuk kode `y_pred = logistic_regression.predict(X_test)` dimana kita ingin mengambil data yang diprediksi model kita dengan menggunakan data test. Tujuannya adalah untuk mengetahui performa dari model kita. Lalu untuk kode `print(classification_report(y_test, y_pred))` bertujuan untuk menampilkan hasil performa dari model yang dilatih dengan menggunakan algoritma logistic regression.\n",
        "\n",
        "---"
      ],
      "metadata": {
        "id": "VfLKJYFbrom-"
      }
    },
    {
      "cell_type": "markdown",
      "source": [
        "---\n",
        "<center style=\"color:red\"><b>HASIL PERFORMA</b></center>\n",
        "\n",
        "---\n",
        "Terlihat jika model dilatih dengan menggunakan algoritma logistic regression akan menghasilkan akurasi 95%. Terlihat akurasinya besar tapi tidak lebih besar dari random forest.\n",
        "\n",
        "---"
      ],
      "metadata": {
        "id": "vmW9CVs_rom_"
      }
    },
    {
      "cell_type": "code",
      "source": [
        "svm = SVC()\n",
        "svm.fit(X_train, y_train)\n",
        "\n",
        "y_pred = svm.predict(X_test)\n",
        "\n",
        "print(classification_report(y_test, y_pred))"
      ],
      "metadata": {
        "colab": {
          "base_uri": "https://localhost:8080/"
        },
        "id": "o6Sts8OXklFV",
        "outputId": "14296096-3ea5-409a-c8f4-344e2236901c"
      },
      "execution_count": null,
      "outputs": [
        {
          "output_type": "stream",
          "name": "stdout",
          "text": [
            "              precision    recall  f1-score   support\n",
            "\n",
            "  grapefruit       0.93      0.92      0.92       998\n",
            "      orange       0.92      0.93      0.92       998\n",
            "\n",
            "    accuracy                           0.92      1996\n",
            "   macro avg       0.92      0.92      0.92      1996\n",
            "weighted avg       0.92      0.92      0.92      1996\n",
            "\n"
          ]
        }
      ]
    },
    {
      "cell_type": "markdown",
      "source": [
        "---\n",
        "<center style=\"color:red\"><b>PENJELASAN</b></center>\n",
        "\n",
        "---\n",
        "dalam kode ini `svm = SVC()` dimana kita telah akan menaruh akses svm di variable svm. Untuk kode `svm.fit(X_train, y_train)` bertujuan untuk melatih modelnya dengan data latih / data train yang sudah kita split sebelumnya. Lalu untuk kode `y_pred = svm.predict(X_test)` dimana kita ingin mengambil data yang diprediksi model kita dengan menggunakan data test. Tujuannya adalah untuk mengetahui performa dari model kita. Lalu untuk kode `print(classification_report(y_test, y_pred))` bertujuan untuk menampilkan hasil performa dari model yang dilatih dengan menggunakan algoritma svm.\n",
        "\n",
        "---"
      ],
      "metadata": {
        "id": "KyhYBTL7sC_t"
      }
    },
    {
      "cell_type": "markdown",
      "source": [
        "---\n",
        "<center style=\"color:red\"><b>HASIL PERFORMA</b></center>\n",
        "\n",
        "---\n",
        "Terlihat jika model dilatih dengan menggunakan algoritma svm akan menghasilkan akurasi 92%. Terlihat akurasinya besar tapi tidak lebih besar dari random forest.\n",
        "\n",
        "---"
      ],
      "metadata": {
        "id": "Z4PtMN8asC_t"
      }
    },
    {
      "cell_type": "code",
      "source": [],
      "metadata": {
        "id": "gdu-fyo5kpV1"
      },
      "execution_count": null,
      "outputs": []
    }
  ]
}